{
 "cells": [
  {
   "cell_type": "code",
   "execution_count": 1,
   "metadata": {},
   "outputs": [],
   "source": [
    "import pandas as pd\n",
    "import numpy as np\n",
    "import matplotlib.pyplot as plt\n",
    "import warnings\n",
    "warnings.filterwarnings('ignore')"
   ]
  },
  {
   "cell_type": "code",
   "execution_count": 2,
   "metadata": {},
   "outputs": [
    {
     "name": "stdout",
     "output_type": "stream",
     "text": [
      "Primer punto\n"
     ]
    },
    {
     "data": {
      "text/html": [
       "<div>\n",
       "<style scoped>\n",
       "    .dataframe tbody tr th:only-of-type {\n",
       "        vertical-align: middle;\n",
       "    }\n",
       "\n",
       "    .dataframe tbody tr th {\n",
       "        vertical-align: top;\n",
       "    }\n",
       "\n",
       "    .dataframe thead th {\n",
       "        text-align: right;\n",
       "    }\n",
       "</style>\n",
       "<table border=\"1\" class=\"dataframe\">\n",
       "  <thead>\n",
       "    <tr style=\"text-align: right;\">\n",
       "      <th></th>\n",
       "      <th>experiencia</th>\n",
       "      <th>ventas-anuales</th>\n",
       "    </tr>\n",
       "  </thead>\n",
       "  <tbody>\n",
       "    <tr>\n",
       "      <th>0</th>\n",
       "      <td>1</td>\n",
       "      <td>80</td>\n",
       "    </tr>\n",
       "    <tr>\n",
       "      <th>1</th>\n",
       "      <td>3</td>\n",
       "      <td>97</td>\n",
       "    </tr>\n",
       "    <tr>\n",
       "      <th>2</th>\n",
       "      <td>4</td>\n",
       "      <td>92</td>\n",
       "    </tr>\n",
       "    <tr>\n",
       "      <th>3</th>\n",
       "      <td>4</td>\n",
       "      <td>102</td>\n",
       "    </tr>\n",
       "    <tr>\n",
       "      <th>4</th>\n",
       "      <td>6</td>\n",
       "      <td>103</td>\n",
       "    </tr>\n",
       "    <tr>\n",
       "      <th>5</th>\n",
       "      <td>8</td>\n",
       "      <td>111</td>\n",
       "    </tr>\n",
       "    <tr>\n",
       "      <th>6</th>\n",
       "      <td>10</td>\n",
       "      <td>119</td>\n",
       "    </tr>\n",
       "    <tr>\n",
       "      <th>7</th>\n",
       "      <td>10</td>\n",
       "      <td>123</td>\n",
       "    </tr>\n",
       "    <tr>\n",
       "      <th>8</th>\n",
       "      <td>11</td>\n",
       "      <td>117</td>\n",
       "    </tr>\n",
       "    <tr>\n",
       "      <th>9</th>\n",
       "      <td>13</td>\n",
       "      <td>136</td>\n",
       "    </tr>\n",
       "  </tbody>\n",
       "</table>\n",
       "</div>"
      ],
      "text/plain": [
       "   experiencia  ventas-anuales\n",
       "0            1              80\n",
       "1            3              97\n",
       "2            4              92\n",
       "3            4             102\n",
       "4            6             103\n",
       "5            8             111\n",
       "6           10             119\n",
       "7           10             123\n",
       "8           11             117\n",
       "9           13             136"
      ]
     },
     "execution_count": 2,
     "metadata": {},
     "output_type": "execute_result"
    }
   ],
   "source": [
    "df = pd.read_csv('data1.csv')\n",
    "del df[\"vendedor\"]\n",
    "print('Primer punto')\n",
    "df"
   ]
  },
  {
   "cell_type": "code",
   "execution_count": 3,
   "metadata": {
    "scrolled": true
   },
   "outputs": [
    {
     "name": "stdout",
     "output_type": "stream",
     "text": [
      "a-) Grafica de dispersión de ventas anuales y experiencia\n"
     ]
    },
    {
     "data": {
      "image/png": "[encoded data removed]",
      "text/plain": [
       "<Figure size 432x288 with 1 Axes>"
      ]
     },
     "metadata": {},
     "output_type": "display_data"
    }
   ],
   "source": [
    "X = df.loc[: , \"experiencia\"]\n",
    "Y = df.loc[: , \"ventas-anuales\"]\n",
    "plt.plot(X, Y, 'bo')\n",
    "print('a-) Grafica de dispersión de ventas anuales y experiencia')"
   ]
  },
  {
   "cell_type": "code",
   "execution_count": 4,
   "metadata": {},
   "outputs": [
    {
     "name": "stdout",
     "output_type": "stream",
     "text": [
      "b-) La ecuanción de regresión estimada es\n",
      "Y = 4.0 X + 80.0\n"
     ]
    },
    {
     "data": {
      "image/png": "[encoded data removed]",
      "text/plain": [
       "<Figure size 432x288 with 1 Axes>"
      ]
     },
     "metadata": {},
     "output_type": "display_data"
    }
   ],
   "source": [
    "fit = np.polyfit(X, Y, 1)\n",
    "fit_fn = np.poly1d(fit)\n",
    "plt.plot(X, Y, 'bo', X, fit_fn(X), '-k')\n",
    "print('b-) La ecuanción de regresión estimada es')\n",
    "print('Y = ' + str(fit[0]) + ' X + ' + str(fit[1]))"
   ]
  },
  {
   "cell_type": "code",
   "execution_count": 5,
   "metadata": {},
   "outputs": [
    {
     "name": "stdout",
     "output_type": "stream",
     "text": [
      "c-) El pronostico de ventas de un vendedor con 9 años de experiencia es: \n"
     ]
    },
    {
     "data": {
      "text/plain": [
       "116.0"
      ]
     },
     "execution_count": 5,
     "metadata": {},
     "output_type": "execute_result"
    }
   ],
   "source": [
    "def predict(x): return fit[0] * x + fit[1]\n",
    "print('c-) El pronostico de ventas de un vendedor con 9 años de experiencia es: ')\n",
    "predict(9)"
   ]
  },
  {
   "cell_type": "code",
   "execution_count": 6,
   "metadata": {},
   "outputs": [
    {
     "data": {
      "text/html": [
       "<div>\n",
       "<style scoped>\n",
       "    .dataframe tbody tr th:only-of-type {\n",
       "        vertical-align: middle;\n",
       "    }\n",
       "\n",
       "    .dataframe tbody tr th {\n",
       "        vertical-align: top;\n",
       "    }\n",
       "\n",
       "    .dataframe thead th {\n",
       "        text-align: right;\n",
       "    }\n",
       "</style>\n",
       "<table border=\"1\" class=\"dataframe\">\n",
       "  <thead>\n",
       "    <tr style=\"text-align: right;\">\n",
       "      <th></th>\n",
       "      <th>area-metropolitana</th>\n",
       "      <th>indice</th>\n",
       "      <th>salario</th>\n",
       "    </tr>\n",
       "  </thead>\n",
       "  <tbody>\n",
       "    <tr>\n",
       "      <th>0</th>\n",
       "      <td>Oklahoma City</td>\n",
       "      <td>82.44</td>\n",
       "      <td>23.9</td>\n",
       "    </tr>\n",
       "    <tr>\n",
       "      <th>1</th>\n",
       "      <td>Tampa/St.Petersbug/Clearwater</td>\n",
       "      <td>79.89</td>\n",
       "      <td>24.5</td>\n",
       "    </tr>\n",
       "    <tr>\n",
       "      <th>2</th>\n",
       "      <td>Indianapolis</td>\n",
       "      <td>55.53</td>\n",
       "      <td>27.4</td>\n",
       "    </tr>\n",
       "    <tr>\n",
       "      <th>3</th>\n",
       "      <td>Buffalo/Niagara Falls</td>\n",
       "      <td>41.36</td>\n",
       "      <td>27.7</td>\n",
       "    </tr>\n",
       "    <tr>\n",
       "      <th>4</th>\n",
       "      <td>Atlanta</td>\n",
       "      <td>39.38</td>\n",
       "      <td>27.1</td>\n",
       "    </tr>\n",
       "    <tr>\n",
       "      <th>5</th>\n",
       "      <td>ROchester</td>\n",
       "      <td>28.05</td>\n",
       "      <td>25.6</td>\n",
       "    </tr>\n",
       "    <tr>\n",
       "      <th>6</th>\n",
       "      <td>Sacramaento</td>\n",
       "      <td>25.50</td>\n",
       "      <td>28.7</td>\n",
       "    </tr>\n",
       "    <tr>\n",
       "      <th>7</th>\n",
       "      <td>Releigh/Durham/Chapel Hill</td>\n",
       "      <td>13.32</td>\n",
       "      <td>26.7</td>\n",
       "    </tr>\n",
       "    <tr>\n",
       "      <th>8</th>\n",
       "      <td>San Diego</td>\n",
       "      <td>3.12</td>\n",
       "      <td>27.8</td>\n",
       "    </tr>\n",
       "    <tr>\n",
       "      <th>9</th>\n",
       "      <td>Honolulu</td>\n",
       "      <td>0.57</td>\n",
       "      <td>28.3</td>\n",
       "    </tr>\n",
       "  </tbody>\n",
       "</table>\n",
       "</div>"
      ],
      "text/plain": [
       "              area-metropolitana  indice  salario\n",
       "0                  Oklahoma City   82.44     23.9\n",
       "1  Tampa/St.Petersbug/Clearwater   79.89     24.5\n",
       "2                   Indianapolis   55.53     27.4\n",
       "3          Buffalo/Niagara Falls   41.36     27.7\n",
       "4                        Atlanta   39.38     27.1\n",
       "5                      ROchester   28.05     25.6\n",
       "6                    Sacramaento   25.50     28.7\n",
       "7     Releigh/Durham/Chapel Hill   13.32     26.7\n",
       "8                      San Diego    3.12     27.8\n",
       "9                       Honolulu    0.57     28.3"
      ]
     },
     "execution_count": 6,
     "metadata": {},
     "output_type": "execute_result"
    }
   ],
   "source": [
    "df = pd.read_csv('data2.csv', decimal=\",\")\n",
    "df"
   ]
  },
  {
   "cell_type": "code",
   "execution_count": 7,
   "metadata": {},
   "outputs": [
    {
     "data": {
      "text/plain": [
       "[<matplotlib.lines.Line2D at 0x7fe7e123b6d8>,\n",
       " <matplotlib.lines.Line2D at 0x7fe7e123bc88>]"
      ]
     },
     "execution_count": 7,
     "metadata": {},
     "output_type": "execute_result"
    },
    {
     "data": {
      "image/png": "[encoded data removed]",
      "text/plain": [
       "<Figure size 432x288 with 1 Axes>"
      ]
     },
     "metadata": {},
     "output_type": "display_data"
    }
   ],
   "source": [
    "X = df.loc[:, 'indice']\n",
    "Y = df.loc[:, 'salario']\n",
    "fit = np.polyfit(X, Y, 1)\n",
    "fit_fn = np.poly1d(fit) \n",
    "plt.plot(X,Y, 'bo', X, fit_fn(X), '--k')"
   ]
  },
  {
   "cell_type": "code",
   "execution_count": 8,
   "metadata": {},
   "outputs": [
    {
     "data": {
      "text/plain": [
       "'Y = -0.041481706307851536X + 28.301338670060638'"
      ]
     },
     "execution_count": 8,
     "metadata": {},
     "output_type": "execute_result"
    }
   ],
   "source": [
    "def predict (x): return (fit[0] * x) + fit[1]\n",
    "'Y = ' + str(fit[0]) + 'X + ' + str(fit[1])"
   ]
  },
  {
   "cell_type": "code",
   "execution_count": 9,
   "metadata": {},
   "outputs": [
    {
     "data": {
      "text/plain": [
       "'C: ventas anuales de un vendedor de 9 años de experiencia. 26.22725335466806'"
      ]
     },
     "execution_count": 9,
     "metadata": {},
     "output_type": "execute_result"
    }
   ],
   "source": [
    "'C: ventas anuales de un vendedor de 9 años de experiencia. ' + str(predict(50))"
   ]
  },
  {
   "cell_type": "code",
   "execution_count": 10,
   "metadata": {},
   "outputs": [
    {
     "name": "stdout",
     "output_type": "stream",
     "text": [
      "Tercer punto\n"
     ]
    },
    {
     "data": {
      "text/html": [
       "<div>\n",
       "<style scoped>\n",
       "    .dataframe tbody tr th:only-of-type {\n",
       "        vertical-align: middle;\n",
       "    }\n",
       "\n",
       "    .dataframe tbody tr th {\n",
       "        vertical-align: top;\n",
       "    }\n",
       "\n",
       "    .dataframe thead th {\n",
       "        text-align: right;\n",
       "    }\n",
       "</style>\n",
       "<table border=\"1\" class=\"dataframe\">\n",
       "  <thead>\n",
       "    <tr style=\"text-align: right;\">\n",
       "      <th></th>\n",
       "      <th>Promedio</th>\n",
       "      <th>Salario-mensual</th>\n",
       "    </tr>\n",
       "  </thead>\n",
       "  <tbody>\n",
       "    <tr>\n",
       "      <th>0</th>\n",
       "      <td>2.6</td>\n",
       "      <td>3300</td>\n",
       "    </tr>\n",
       "    <tr>\n",
       "      <th>1</th>\n",
       "      <td>3.4</td>\n",
       "      <td>3600</td>\n",
       "    </tr>\n",
       "    <tr>\n",
       "      <th>2</th>\n",
       "      <td>3.6</td>\n",
       "      <td>4000</td>\n",
       "    </tr>\n",
       "    <tr>\n",
       "      <th>3</th>\n",
       "      <td>3.2</td>\n",
       "      <td>3500</td>\n",
       "    </tr>\n",
       "    <tr>\n",
       "      <th>4</th>\n",
       "      <td>3.5</td>\n",
       "      <td>3900</td>\n",
       "    </tr>\n",
       "    <tr>\n",
       "      <th>5</th>\n",
       "      <td>2.9</td>\n",
       "      <td>3600</td>\n",
       "    </tr>\n",
       "  </tbody>\n",
       "</table>\n",
       "</div>"
      ],
      "text/plain": [
       "   Promedio  Salario-mensual\n",
       "0       2.6             3300\n",
       "1       3.4             3600\n",
       "2       3.6             4000\n",
       "3       3.2             3500\n",
       "4       3.5             3900\n",
       "5       2.9             3600"
      ]
     },
     "execution_count": 10,
     "metadata": {},
     "output_type": "execute_result"
    }
   ],
   "source": [
    "df = pd.read_csv('data3.csv')\n",
    "print('Tercer punto')\n",
    "df"
   ]
  },
  {
   "cell_type": "code",
   "execution_count": 11,
   "metadata": {
    "scrolled": true
   },
   "outputs": [
    {
     "data": {
      "text/plain": [
       "[<matplotlib.lines.Line2D at 0x7fe7e11f3550>]"
      ]
     },
     "execution_count": 11,
     "metadata": {},
     "output_type": "execute_result"
    },
    {
     "data": {
      "image/png": "[encoded data removed]",
      "text/plain": [
       "<Figure size 432x288 with 1 Axes>"
      ]
     },
     "metadata": {},
     "output_type": "display_data"
    }
   ],
   "source": [
    "X = df.loc[: , \"Promedio\"]\n",
    "Y = df.loc[: , \"Salario-mensual\"]\n",
    "plt.plot(X, Y, 'bo')"
   ]
  },
  {
   "cell_type": "code",
   "execution_count": 14,
   "metadata": {},
   "outputs": [
    {
     "name": "stdout",
     "output_type": "stream",
     "text": [
      "Parameters:  const       1790.540541\n",
      "Promedio     581.081081\n",
      "dtype: float64\n",
      "R2:  0.7458652682533282\n",
      "                            OLS Regression Results                            \n",
      "==============================================================================\n",
      "Dep. Variable:        Salario-mensual   R-squared:                       0.746\n",
      "Model:                            OLS   Adj. R-squared:                  0.682\n",
      "Method:                 Least Squares   F-statistic:                     11.74\n",
      "Date:                Tue, 01 May 2018   Prob (F-statistic):             0.0266\n",
      "Time:                        14:48:32   Log-Likelihood:                -37.194\n",
      "No. Observations:                   6   AIC:                             78.39\n",
      "Df Residuals:                       4   BIC:                             77.97\n",
      "Df Model:                           1                                         \n",
      "Covariance Type:            nonrobust                                         \n",
      "==============================================================================\n",
      "                 coef    std err          t      P>|t|      [0.025      0.975]\n",
      "------------------------------------------------------------------------------\n",
      "const       1790.5405    545.957      3.280      0.031     274.721    3306.360\n",
      "Promedio     581.0811    169.593      3.426      0.027     110.215    1051.947\n",
      "==============================================================================\n",
      "Omnibus:                          nan   Durbin-Watson:                   2.732\n",
      "Prob(Omnibus):                    nan   Jarque-Bera (JB):                0.768\n",
      "Skew:                          -0.393   Prob(JB):                        0.681\n",
      "Kurtosis:                       1.434   Cond. No.                         32.3\n",
      "==============================================================================\n",
      "\n",
      "Warnings:\n",
      "[1] Standard Errors assume that the covariance matrix of the errors is correctly specified.\n"
     ]
    }
   ],
   "source": [
    "import statsmodels.api as sm\n",
    "X = sm.add_constant(X)\n",
    "model = sm.OLS(Y, X).fit()\n",
    "print('Parameters: ', model.params)\n",
    "print('R2: ', model.rsquared)\n",
    "print(model.summary())"
   ]
  },
  {
   "cell_type": "code",
   "execution_count": 22,
   "metadata": {},
   "outputs": [
    {
     "name": "stdout",
     "output_type": "stream",
     "text": [
      "b-) La ecuanción de regresión estimada es\n",
      "Y = 581.0810810810793 X + 1790.5405405405463\n"
     ]
    },
    {
     "data": {
      "image/png": "[encoded data removed]",
      "text/plain": [
       "<Figure size 432x288 with 1 Axes>"
      ]
     },
     "metadata": {},
     "output_type": "display_data"
    }
   ],
   "source": [
    "fit = np.polyfit(X['Promedio'], Y, 1)\n",
    "fit_fn = np.poly1d(fit)\n",
    "plt.plot(X, Y, 'bo', X, fit_fn(X), '-k')\n",
    "print('b-) La ecuanción de regresión estimada es')\n",
    "print('Y = ' + str(fit[0]) + ' X + ' + str(fit[1]))"
   ]
  },
  {
   "cell_type": "code",
   "execution_count": 23,
   "metadata": {},
   "outputs": [
    {
     "name": "stdout",
     "output_type": "stream",
     "text": [
      "Cuarto punto\n"
     ]
    }
   ],
   "source": [
    "print('Cuarto punto')"
   ]
  },
  {
   "cell_type": "code",
   "execution_count": 24,
   "metadata": {},
   "outputs": [
    {
     "name": "stdout",
     "output_type": "stream",
     "text": [
      "          Depotivos/GT  General  Manejo  Confiabilidad   Ajuste y terminado\n",
      "0          Acura 3.2Cl     7.80    7.83            8.17                7.67\n",
      "1            Acura RSX     9.02    9.46            9.35                8.97\n",
      "2              Audi TT     9.00    9.58            8.74                9.38\n",
      "3             BMW 3-Se     8.39    9.52            8.39                8.55\n",
      "4   Chevrolet Corvette     8.82    9.64            8.54                7.87\n",
      "5         Ford Mustang     8.34    8.85            8.70                7.34\n",
      "6       Honda Civic Si     8.92    9.31            9.50                7.93\n",
      "7         Infiniti G35     8.70    9.34            8.96                8.07\n",
      "8           Mazda RX-8     8.58    9.79            8.96                8.12\n",
      "9          Mini Cooper     8.76   10.00            8.69                8.33\n",
      "10  Mitsubishi Eclipse     8.17    8.95            8.25                7.36\n",
      "11         Nissan 350z     8.07    9.35            7.56                8.21\n",
      "12         Porsche 911     9.55    9.91            8.86                9.55\n",
      "13       Toyota Celica     8.77    9.29            9.04                7.97\n"
     ]
    }
   ],
   "source": [
    "df = pd.read_csv('data4.csv', decimal=\",\")\n",
    "Y = df['General']\n",
    "print(df)\n",
    "del df['General']\n",
    "del df['Depotivos/GT']"
   ]
  },
  {
   "cell_type": "code",
   "execution_count": 25,
   "metadata": {},
   "outputs": [
    {
     "data": {
      "text/html": [
       "<table class=\"simpletable\">\n",
       "<caption>OLS Regression Results</caption>\n",
       "<tr>\n",
       "  <th>Dep. Variable:</th>         <td>General</td>     <th>  R-squared:         </th> <td>   1.000</td> \n",
       "</tr>\n",
       "<tr>\n",
       "  <th>Model:</th>                   <td>OLS</td>       <th>  Adj. R-squared:    </th> <td>   1.000</td> \n",
       "</tr>\n",
       "<tr>\n",
       "  <th>Method:</th>             <td>Least Squares</td>  <th>  F-statistic:       </th> <td>1.068e+04</td>\n",
       "</tr>\n",
       "<tr>\n",
       "  <th>Date:</th>             <td>Tue, 01 May 2018</td> <th>  Prob (F-statistic):</th> <td>2.49e-19</td> \n",
       "</tr>\n",
       "<tr>\n",
       "  <th>Time:</th>                 <td>14:53:42</td>     <th>  Log-Likelihood:    </th> <td>  5.7744</td> \n",
       "</tr>\n",
       "<tr>\n",
       "  <th>No. Observations:</th>      <td>    14</td>      <th>  AIC:               </th> <td>  -5.549</td> \n",
       "</tr>\n",
       "<tr>\n",
       "  <th>Df Residuals:</th>          <td>    11</td>      <th>  BIC:               </th> <td>  -3.632</td> \n",
       "</tr>\n",
       "<tr>\n",
       "  <th>Df Model:</th>              <td>     3</td>      <th>                     </th>     <td> </td>    \n",
       "</tr>\n",
       "<tr>\n",
       "  <th>Covariance Type:</th>      <td>nonrobust</td>    <th>                     </th>     <td> </td>    \n",
       "</tr>\n",
       "</table>\n",
       "<table class=\"simpletable\">\n",
       "<tr>\n",
       "           <td></td>             <th>coef</th>     <th>std err</th>      <th>t</th>      <th>P>|t|</th>  <th>[0.025</th>    <th>0.975]</th>  \n",
       "</tr>\n",
       "<tr>\n",
       "  <th>Manejo</th>             <td>    0.2734</td> <td>    0.104</td> <td>    2.621</td> <td> 0.024</td> <td>    0.044</td> <td>    0.503</td>\n",
       "</tr>\n",
       "<tr>\n",
       "  <th>Confiabilidad </th>     <td>    0.4437</td> <td>    0.086</td> <td>    5.147</td> <td> 0.000</td> <td>    0.254</td> <td>    0.633</td>\n",
       "</tr>\n",
       "<tr>\n",
       "  <th>Ajuste y terminado</th> <td>    0.2698</td> <td>    0.090</td> <td>    2.984</td> <td> 0.012</td> <td>    0.071</td> <td>    0.469</td>\n",
       "</tr>\n",
       "</table>\n",
       "<table class=\"simpletable\">\n",
       "<tr>\n",
       "  <th>Omnibus:</th>       <td> 0.882</td> <th>  Durbin-Watson:     </th> <td>   2.046</td>\n",
       "</tr>\n",
       "<tr>\n",
       "  <th>Prob(Omnibus):</th> <td> 0.643</td> <th>  Jarque-Bera (JB):  </th> <td>   0.355</td>\n",
       "</tr>\n",
       "<tr>\n",
       "  <th>Skew:</th>          <td> 0.384</td> <th>  Prob(JB):          </th> <td>   0.837</td>\n",
       "</tr>\n",
       "<tr>\n",
       "  <th>Kurtosis:</th>      <td> 2.861</td> <th>  Cond. No.          </th> <td>    41.7</td>\n",
       "</tr>\n",
       "</table>"
      ],
      "text/plain": [
       "<class 'statsmodels.iolib.summary.Summary'>\n",
       "\"\"\"\n",
       "                            OLS Regression Results                            \n",
       "==============================================================================\n",
       "Dep. Variable:                General   R-squared:                       1.000\n",
       "Model:                            OLS   Adj. R-squared:                  1.000\n",
       "Method:                 Least Squares   F-statistic:                 1.068e+04\n",
       "Date:                Tue, 01 May 2018   Prob (F-statistic):           2.49e-19\n",
       "Time:                        14:53:42   Log-Likelihood:                 5.7744\n",
       "No. Observations:                  14   AIC:                            -5.549\n",
       "Df Residuals:                      11   BIC:                            -3.632\n",
       "Df Model:                           3                                         \n",
       "Covariance Type:            nonrobust                                         \n",
       "======================================================================================\n",
       "                         coef    std err          t      P>|t|      [0.025      0.975]\n",
       "--------------------------------------------------------------------------------------\n",
       "Manejo                 0.2734      0.104      2.621      0.024       0.044       0.503\n",
       "Confiabilidad          0.4437      0.086      5.147      0.000       0.254       0.633\n",
       "Ajuste y terminado     0.2698      0.090      2.984      0.012       0.071       0.469\n",
       "==============================================================================\n",
       "Omnibus:                        0.882   Durbin-Watson:                   2.046\n",
       "Prob(Omnibus):                  0.643   Jarque-Bera (JB):                0.355\n",
       "Skew:                           0.384   Prob(JB):                        0.837\n",
       "Kurtosis:                       2.861   Cond. No.                         41.7\n",
       "==============================================================================\n",
       "\n",
       "Warnings:\n",
       "[1] Standard Errors assume that the covariance matrix of the errors is correctly specified.\n",
       "\"\"\""
      ]
     },
     "execution_count": 25,
     "metadata": {},
     "output_type": "execute_result"
    }
   ],
   "source": [
    "X = sm.add_constant(df, prepend=False)\n",
    "model = sm.OLS(Y, df).fit()\n",
    "model.summary()"
   ]
  },
  {
   "cell_type": "code",
   "execution_count": 26,
   "metadata": {},
   "outputs": [
    {
     "data": {
      "text/plain": [
       "array([8.46157113])"
      ]
     },
     "execution_count": 26,
     "metadata": {},
     "output_type": "execute_result"
    }
   ],
   "source": [
    "model.predict([8.28, 9.06, 8.07])"
   ]
  },
  {
   "cell_type": "code",
   "execution_count": 27,
   "metadata": {},
   "outputs": [
    {
     "name": "stdout",
     "output_type": "stream",
     "text": [
      "Quinto punto\n"
     ]
    }
   ],
   "source": [
    "print('Quinto punto')"
   ]
  },
  {
   "cell_type": "code",
   "execution_count": 114,
   "metadata": {},
   "outputs": [
    {
     "name": "stdout",
     "output_type": "stream",
     "text": [
      "    eval-seguridad  coef-gastos-anuales\n",
      "0              7.1                 1.59\n",
      "1              7.2                 1.35\n",
      "2              6.8                 1.68\n",
      "3              7.1                 1.56\n",
      "4              6.2                 2.16\n",
      "5              7.4                 1.80\n",
      "6              6.5                 1.88\n",
      "7              7.0                 0.90\n",
      "8              6.9                 1.79\n",
      "9              7.2                 1.49\n",
      "10             7.1                 1.05\n",
      "11             7.7                 1.25\n",
      "12             7.0                 1.83\n",
      "13             7.0                 1.94\n",
      "14             7.2                 1.09\n",
      "15             6.9                 1.50\n",
      "16             7.0                 1.28\n",
      "17             7.1                 1.65\n",
      "18             6.5                 1.61\n",
      "19             7.0                 1.50\n"
     ]
    }
   ],
   "source": [
    "df = pd.read_csv('data5.csv', decimal=\",\")\n",
    "Y = df.pop('rendimiento-anual')\n",
    "print(df)"
   ]
  },
  {
   "cell_type": "code",
   "execution_count": 115,
   "metadata": {},
   "outputs": [
    {
     "data": {
      "text/html": [
       "<table class=\"simpletable\">\n",
       "<caption>OLS Regression Results</caption>\n",
       "<tr>\n",
       "  <th>Dep. Variable:</th>    <td>rendimiento-anual</td> <th>  R-squared:         </th> <td>   0.944</td>\n",
       "</tr>\n",
       "<tr>\n",
       "  <th>Model:</th>                   <td>OLS</td>        <th>  Adj. R-squared:    </th> <td>   0.937</td>\n",
       "</tr>\n",
       "<tr>\n",
       "  <th>Method:</th>             <td>Least Squares</td>   <th>  F-statistic:       </th> <td>   150.8</td>\n",
       "</tr>\n",
       "<tr>\n",
       "  <th>Date:</th>             <td>Tue, 01 May 2018</td>  <th>  Prob (F-statistic):</th> <td>5.69e-12</td>\n",
       "</tr>\n",
       "<tr>\n",
       "  <th>Time:</th>                 <td>21:28:10</td>      <th>  Log-Likelihood:    </th> <td> -85.976</td>\n",
       "</tr>\n",
       "<tr>\n",
       "  <th>No. Observations:</th>      <td>    20</td>       <th>  AIC:               </th> <td>   176.0</td>\n",
       "</tr>\n",
       "<tr>\n",
       "  <th>Df Residuals:</th>          <td>    18</td>       <th>  BIC:               </th> <td>   177.9</td>\n",
       "</tr>\n",
       "<tr>\n",
       "  <th>Df Model:</th>              <td>     2</td>       <th>                     </th>     <td> </td>   \n",
       "</tr>\n",
       "<tr>\n",
       "  <th>Covariance Type:</th>      <td>nonrobust</td>     <th>                     </th>     <td> </td>   \n",
       "</tr>\n",
       "</table>\n",
       "<table class=\"simpletable\">\n",
       "<tr>\n",
       "           <td></td>              <th>coef</th>     <th>std err</th>      <th>t</th>      <th>P>|t|</th>  <th>[0.025</th>    <th>0.975]</th>  \n",
       "</tr>\n",
       "<tr>\n",
       "  <th>eval-seguridad</th>      <td>   -2.0727</td> <td>    2.671</td> <td>   -0.776</td> <td> 0.448</td> <td>   -7.684</td> <td>    3.539</td>\n",
       "</tr>\n",
       "<tr>\n",
       "  <th>coef-gastos-anuales</th> <td>   55.1819</td> <td>   11.865</td> <td>    4.651</td> <td> 0.000</td> <td>   30.255</td> <td>   80.109</td>\n",
       "</tr>\n",
       "</table>\n",
       "<table class=\"simpletable\">\n",
       "<tr>\n",
       "  <th>Omnibus:</th>       <td> 4.339</td> <th>  Durbin-Watson:     </th> <td>   2.403</td>\n",
       "</tr>\n",
       "<tr>\n",
       "  <th>Prob(Omnibus):</th> <td> 0.114</td> <th>  Jarque-Bera (JB):  </th> <td>   1.444</td>\n",
       "</tr>\n",
       "<tr>\n",
       "  <th>Skew:</th>          <td>-0.000</td> <th>  Prob(JB):          </th> <td>   0.486</td>\n",
       "</tr>\n",
       "<tr>\n",
       "  <th>Kurtosis:</th>      <td> 1.684</td> <th>  Cond. No.          </th> <td>    20.7</td>\n",
       "</tr>\n",
       "</table>"
      ],
      "text/plain": [
       "<class 'statsmodels.iolib.summary.Summary'>\n",
       "\"\"\"\n",
       "                            OLS Regression Results                            \n",
       "==============================================================================\n",
       "Dep. Variable:      rendimiento-anual   R-squared:                       0.944\n",
       "Model:                            OLS   Adj. R-squared:                  0.937\n",
       "Method:                 Least Squares   F-statistic:                     150.8\n",
       "Date:                Tue, 01 May 2018   Prob (F-statistic):           5.69e-12\n",
       "Time:                        21:28:10   Log-Likelihood:                -85.976\n",
       "No. Observations:                  20   AIC:                             176.0\n",
       "Df Residuals:                      18   BIC:                             177.9\n",
       "Df Model:                           2                                         \n",
       "Covariance Type:            nonrobust                                         \n",
       "=======================================================================================\n",
       "                          coef    std err          t      P>|t|      [0.025      0.975]\n",
       "---------------------------------------------------------------------------------------\n",
       "eval-seguridad         -2.0727      2.671     -0.776      0.448      -7.684       3.539\n",
       "coef-gastos-anuales    55.1819     11.865      4.651      0.000      30.255      80.109\n",
       "==============================================================================\n",
       "Omnibus:                        4.339   Durbin-Watson:                   2.403\n",
       "Prob(Omnibus):                  0.114   Jarque-Bera (JB):                1.444\n",
       "Skew:                          -0.000   Prob(JB):                        0.486\n",
       "Kurtosis:                       1.684   Cond. No.                         20.7\n",
       "==============================================================================\n",
       "\n",
       "Warnings:\n",
       "[1] Standard Errors assume that the covariance matrix of the errors is correctly specified.\n",
       "\"\"\""
      ]
     },
     "execution_count": 115,
     "metadata": {},
     "output_type": "execute_result"
    }
   ],
   "source": [
    "X = sm.add_constant(df, prepend=False)\n",
    "model = sm.OLS(Y, df).fit()\n",
    "model.summary()"
   ]
  },
  {
   "cell_type": "code",
   "execution_count": 116,
   "metadata": {},
   "outputs": [
    {
     "data": {
      "text/plain": [
       "array([94.81884842])"
      ]
     },
     "execution_count": 116,
     "metadata": {},
     "output_type": "execute_result"
    }
   ],
   "source": [
    "model.predict([7.5, 2])"
   ]
  },
  {
   "cell_type": "code",
   "execution_count": 117,
   "metadata": {},
   "outputs": [
    {
     "name": "stdout",
     "output_type": "stream",
     "text": [
      "------------Sexto punto\n"
     ]
    }
   ],
   "source": [
    "print('------------Sexto punto')"
   ]
  },
  {
   "cell_type": "code",
   "execution_count": 61,
   "metadata": {},
   "outputs": [
    {
     "name": "stdout",
     "output_type": "stream",
     "text": [
      "    Edad  Presión  Fumador\n",
      "0     57      152        0\n",
      "1     67      163        0\n",
      "2     58      155        0\n",
      "3     86      177        1\n",
      "4     59      196        0\n",
      "5     76      189        1\n",
      "6     56      155        1\n",
      "7     78      120        0\n",
      "8     80      135        1\n",
      "9     78       98        0\n",
      "10    71      152        0\n",
      "11    70      173        1\n",
      "12    67      135        1\n",
      "13    77      209        1\n",
      "14    60      199        0\n",
      "15    82      119        1\n",
      "16    66      166        0\n",
      "17    80      125        1\n",
      "18    62      117        0\n",
      "19    59      207        1\n"
     ]
    }
   ],
   "source": [
    "df = pd.read_csv('data6.csv')\n",
    "Y = df.pop('Riesgo')\n",
    "print(df)"
   ]
  },
  {
   "cell_type": "code",
   "execution_count": 59,
   "metadata": {},
   "outputs": [
    {
     "data": {
      "text/html": [
       "<table class=\"simpletable\">\n",
       "<caption>OLS Regression Results</caption>\n",
       "<tr>\n",
       "  <th>Dep. Variable:</th>         <td>Riesgo</td>      <th>  R-squared:         </th> <td>   0.907</td>\n",
       "</tr>\n",
       "<tr>\n",
       "  <th>Model:</th>                   <td>OLS</td>       <th>  Adj. R-squared:    </th> <td>   0.891</td>\n",
       "</tr>\n",
       "<tr>\n",
       "  <th>Method:</th>             <td>Least Squares</td>  <th>  F-statistic:       </th> <td>   55.49</td>\n",
       "</tr>\n",
       "<tr>\n",
       "  <th>Date:</th>             <td>Tue, 01 May 2018</td> <th>  Prob (F-statistic):</th> <td>5.44e-09</td>\n",
       "</tr>\n",
       "<tr>\n",
       "  <th>Time:</th>                 <td>20:54:34</td>     <th>  Log-Likelihood:    </th> <td> -73.005</td>\n",
       "</tr>\n",
       "<tr>\n",
       "  <th>No. Observations:</th>      <td>    20</td>      <th>  AIC:               </th> <td>   152.0</td>\n",
       "</tr>\n",
       "<tr>\n",
       "  <th>Df Residuals:</th>          <td>    17</td>      <th>  BIC:               </th> <td>   155.0</td>\n",
       "</tr>\n",
       "<tr>\n",
       "  <th>Df Model:</th>              <td>     3</td>      <th>                     </th>     <td> </td>   \n",
       "</tr>\n",
       "<tr>\n",
       "  <th>Covariance Type:</th>      <td>nonrobust</td>    <th>                     </th>     <td> </td>   \n",
       "</tr>\n",
       "</table>\n",
       "<table class=\"simpletable\">\n",
       "<tr>\n",
       "     <td></td>        <th>coef</th>     <th>std err</th>      <th>t</th>      <th>P>|t|</th>  <th>[0.025</th>    <th>0.975]</th>  \n",
       "</tr>\n",
       "<tr>\n",
       "  <th>Edad</th>    <td>    0.1719</td> <td>    0.124</td> <td>    1.384</td> <td> 0.184</td> <td>   -0.090</td> <td>    0.434</td>\n",
       "</tr>\n",
       "<tr>\n",
       "  <th>Presión</th> <td>    0.0470</td> <td>    0.052</td> <td>    0.898</td> <td> 0.382</td> <td>   -0.063</td> <td>    0.158</td>\n",
       "</tr>\n",
       "<tr>\n",
       "  <th>Fumador</th> <td>   16.5660</td> <td>    4.747</td> <td>    3.490</td> <td> 0.003</td> <td>    6.551</td> <td>   26.581</td>\n",
       "</tr>\n",
       "</table>\n",
       "<table class=\"simpletable\">\n",
       "<tr>\n",
       "  <th>Omnibus:</th>       <td> 0.140</td> <th>  Durbin-Watson:     </th> <td>   2.433</td>\n",
       "</tr>\n",
       "<tr>\n",
       "  <th>Prob(Omnibus):</th> <td> 0.932</td> <th>  Jarque-Bera (JB):  </th> <td>   0.328</td>\n",
       "</tr>\n",
       "<tr>\n",
       "  <th>Skew:</th>          <td>-0.142</td> <th>  Prob(JB):          </th> <td>   0.849</td>\n",
       "</tr>\n",
       "<tr>\n",
       "  <th>Kurtosis:</th>      <td> 2.440</td> <th>  Cond. No.          </th> <td>    366.</td>\n",
       "</tr>\n",
       "</table>"
      ],
      "text/plain": [
       "<class 'statsmodels.iolib.summary.Summary'>\n",
       "\"\"\"\n",
       "                            OLS Regression Results                            \n",
       "==============================================================================\n",
       "Dep. Variable:                 Riesgo   R-squared:                       0.907\n",
       "Model:                            OLS   Adj. R-squared:                  0.891\n",
       "Method:                 Least Squares   F-statistic:                     55.49\n",
       "Date:                Tue, 01 May 2018   Prob (F-statistic):           5.44e-09\n",
       "Time:                        20:54:34   Log-Likelihood:                -73.005\n",
       "No. Observations:                  20   AIC:                             152.0\n",
       "Df Residuals:                      17   BIC:                             155.0\n",
       "Df Model:                           3                                         \n",
       "Covariance Type:            nonrobust                                         \n",
       "==============================================================================\n",
       "                 coef    std err          t      P>|t|      [0.025      0.975]\n",
       "------------------------------------------------------------------------------\n",
       "Edad           0.1719      0.124      1.384      0.184      -0.090       0.434\n",
       "Presión        0.0470      0.052      0.898      0.382      -0.063       0.158\n",
       "Fumador       16.5660      4.747      3.490      0.003       6.551      26.581\n",
       "==============================================================================\n",
       "Omnibus:                        0.140   Durbin-Watson:                   2.433\n",
       "Prob(Omnibus):                  0.932   Jarque-Bera (JB):                0.328\n",
       "Skew:                          -0.142   Prob(JB):                        0.849\n",
       "Kurtosis:                       2.440   Cond. No.                         366.\n",
       "==============================================================================\n",
       "\n",
       "Warnings:\n",
       "[1] Standard Errors assume that the covariance matrix of the errors is correctly specified.\n",
       "\"\"\""
      ]
     },
     "execution_count": 59,
     "metadata": {},
     "output_type": "execute_result"
    }
   ],
   "source": [
    "X = sm.add_constant(df, prepend=False)\n",
    "model = sm.OLS(Y, df).fit()\n",
    "model.summary()"
   ]
  },
  {
   "cell_type": "code",
   "execution_count": 57,
   "metadata": {},
   "outputs": [
    {
     "name": "stdout",
     "output_type": "stream",
     "text": [
      "B: Es un factor significativo ya que....\n"
     ]
    }
   ],
   "source": [
    "print('B: Es un factor significativo ya que....')"
   ]
  },
  {
   "cell_type": "code",
   "execution_count": null,
   "metadata": {},
   "outputs": [],
   "source": [
    "model.predict([68, 175, 1])"
   ]
  },
  {
   "cell_type": "code",
   "execution_count": 56,
   "metadata": {},
   "outputs": [
    {
     "name": "stdout",
     "output_type": "stream",
     "text": [
      "C: la probabilidad de que Art Apeen sufra un infarto en los próximos 10 años es de 36.48158 %\n"
     ]
    }
   ],
   "source": [
    "print('C: la probabilidad de que Art Apeen sufra un infarto en los próximos 10 años es de 36.48158 %')"
   ]
  },
  {
   "cell_type": "code",
   "execution_count": 99,
   "metadata": {},
   "outputs": [
    {
     "name": "stdout",
     "output_type": "stream",
     "text": [
      "--------------Punto 7\n"
     ]
    }
   ],
   "source": [
    "print('--------------Punto 7')\n",
    "import statsmodels.formula.api as smf"
   ]
  },
  {
   "cell_type": "code",
   "execution_count": 105,
   "metadata": {},
   "outputs": [
    {
     "name": "stdout",
     "output_type": "stream",
     "text": [
      "   meses-ultimo-servicio       tipo  tiempo\n",
      "0                      2  electrico     2.9\n",
      "1                      6   mecanico     3.0\n",
      "2                      8  electrico     4.8\n",
      "3                      3   mecanico     1.8\n",
      "4                      2  electrico     2.9\n",
      "5                      7  electrico     4.9\n",
      "6                      9   mecanico     4.2\n",
      "7                      8   mecanico     4.8\n",
      "8                      4  electrico     4.4\n",
      "9                      6  electrico     4.5\n"
     ]
    }
   ],
   "source": [
    "df = pd.read_csv('data7.csv', decimal=\",\")\n",
    "X = df.copy()\n",
    "Y = X.pop('tiempo')\n",
    "print(df)"
   ]
  },
  {
   "cell_type": "code",
   "execution_count": 112,
   "metadata": {},
   "outputs": [],
   "source": [
    " df['tipo_ord'] = pd.Categorical(df.tipo).labels"
   ]
  },
  {
   "cell_type": "code",
   "execution_count": 113,
   "metadata": {},
   "outputs": [],
   "source": [
    "model = smf.ols(formula=\"tiempo ~ tipo_ord\", data=df).fit()"
   ]
  },
  {
   "cell_type": "code",
   "execution_count": 104,
   "metadata": {},
   "outputs": [
    {
     "data": {
      "text/html": [
       "<table class=\"simpletable\">\n",
       "<caption>OLS Regression Results</caption>\n",
       "<tr>\n",
       "  <th>Dep. Variable:</th>         <td>tiempo</td>      <th>  R-squared:         </th> <td>   0.087</td>\n",
       "</tr>\n",
       "<tr>\n",
       "  <th>Model:</th>                   <td>OLS</td>       <th>  Adj. R-squared:    </th> <td>  -0.027</td>\n",
       "</tr>\n",
       "<tr>\n",
       "  <th>Method:</th>             <td>Least Squares</td>  <th>  F-statistic:       </th> <td>  0.7635</td>\n",
       "</tr>\n",
       "<tr>\n",
       "  <th>Date:</th>             <td>Tue, 01 May 2018</td> <th>  Prob (F-statistic):</th>  <td> 0.408</td> \n",
       "</tr>\n",
       "<tr>\n",
       "  <th>Time:</th>                 <td>21:18:39</td>     <th>  Log-Likelihood:    </th> <td> -13.966</td>\n",
       "</tr>\n",
       "<tr>\n",
       "  <th>No. Observations:</th>      <td>    10</td>      <th>  AIC:               </th> <td>   31.93</td>\n",
       "</tr>\n",
       "<tr>\n",
       "  <th>Df Residuals:</th>          <td>     8</td>      <th>  BIC:               </th> <td>   32.54</td>\n",
       "</tr>\n",
       "<tr>\n",
       "  <th>Df Model:</th>              <td>     1</td>      <th>                     </th>     <td> </td>   \n",
       "</tr>\n",
       "<tr>\n",
       "  <th>Covariance Type:</th>      <td>nonrobust</td>    <th>                     </th>     <td> </td>   \n",
       "</tr>\n",
       "</table>\n",
       "<table class=\"simpletable\">\n",
       "<tr>\n",
       "      <td></td>         <th>coef</th>     <th>std err</th>      <th>t</th>      <th>P>|t|</th>  <th>[0.025</th>    <th>0.975]</th>  \n",
       "</tr>\n",
       "<tr>\n",
       "  <th>Intercept</th> <td>    4.0667</td> <td>    0.446</td> <td>    9.111</td> <td> 0.000</td> <td>    3.037</td> <td>    5.096</td>\n",
       "</tr>\n",
       "<tr>\n",
       "  <th>tipo_ord</th>  <td>   -0.6167</td> <td>    0.706</td> <td>   -0.874</td> <td> 0.408</td> <td>   -2.244</td> <td>    1.011</td>\n",
       "</tr>\n",
       "</table>\n",
       "<table class=\"simpletable\">\n",
       "<tr>\n",
       "  <th>Omnibus:</th>       <td> 1.825</td> <th>  Durbin-Watson:     </th> <td>   1.384</td>\n",
       "</tr>\n",
       "<tr>\n",
       "  <th>Prob(Omnibus):</th> <td> 0.401</td> <th>  Jarque-Bera (JB):  </th> <td>   0.969</td>\n",
       "</tr>\n",
       "<tr>\n",
       "  <th>Skew:</th>          <td>-0.405</td> <th>  Prob(JB):          </th> <td>   0.616</td>\n",
       "</tr>\n",
       "<tr>\n",
       "  <th>Kurtosis:</th>      <td> 1.707</td> <th>  Cond. No.          </th> <td>    2.45</td>\n",
       "</tr>\n",
       "</table>"
      ],
      "text/plain": [
       "<class 'statsmodels.iolib.summary.Summary'>\n",
       "\"\"\"\n",
       "                            OLS Regression Results                            \n",
       "==============================================================================\n",
       "Dep. Variable:                 tiempo   R-squared:                       0.087\n",
       "Model:                            OLS   Adj. R-squared:                 -0.027\n",
       "Method:                 Least Squares   F-statistic:                    0.7635\n",
       "Date:                Tue, 01 May 2018   Prob (F-statistic):              0.408\n",
       "Time:                        21:18:39   Log-Likelihood:                -13.966\n",
       "No. Observations:                  10   AIC:                             31.93\n",
       "Df Residuals:                       8   BIC:                             32.54\n",
       "Df Model:                           1                                         \n",
       "Covariance Type:            nonrobust                                         \n",
       "==============================================================================\n",
       "                 coef    std err          t      P>|t|      [0.025      0.975]\n",
       "------------------------------------------------------------------------------\n",
       "Intercept      4.0667      0.446      9.111      0.000       3.037       5.096\n",
       "tipo_ord      -0.6167      0.706     -0.874      0.408      -2.244       1.011\n",
       "==============================================================================\n",
       "Omnibus:                        1.825   Durbin-Watson:                   1.384\n",
       "Prob(Omnibus):                  0.401   Jarque-Bera (JB):                0.969\n",
       "Skew:                          -0.405   Prob(JB):                        0.616\n",
       "Kurtosis:                       1.707   Cond. No.                         2.45\n",
       "==============================================================================\n",
       "\n",
       "Warnings:\n",
       "[1] Standard Errors assume that the covariance matrix of the errors is correctly specified.\n",
       "\"\"\""
      ]
     },
     "execution_count": 104,
     "metadata": {},
     "output_type": "execute_result"
    }
   ],
   "source": [
    "model.summary()"
   ]
  },
  {
   "cell_type": "code",
   "execution_count": null,
   "metadata": {},
   "outputs": [],
   "source": []
  }
 ],
 "metadata": {
  "kernelspec": {
   "display_name": "Python 3",
   "language": "python",
   "name": "python3"
  },
  "language_info": {
   "codemirror_mode": {
    "name": "ipython",
    "version": 3
   },
   "file_extension": ".py",
   "mimetype": "text/x-python",
   "name": "python",
   "nbconvert_exporter": "python",
   "pygments_lexer": "ipython3",
   "version": "3.5.2"
  }
 },
 "nbformat": 4,
 "nbformat_minor": 2
}
