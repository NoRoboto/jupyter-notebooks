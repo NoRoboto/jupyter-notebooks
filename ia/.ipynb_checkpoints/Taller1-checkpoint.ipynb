{
 "cells": [
  {
   "cell_type": "markdown",
   "metadata": {},
   "source": [
    "# TÉCNICAS HERUÍSTICAS DE OPTIMIZACIÓN"
   ]
  },
  {
   "cell_type": "markdown",
   "metadata": {},
   "source": [
    "### Ejercicio 1 Problema de Knapsack0-1 (Mochila)"
   ]
  },
  {
   "cell_type": "markdown",
   "metadata": {},
   "source": [
    "| Producto  |x1|x2|x3|x4|x5|x6|x7|x8|x9|x10|x11|x12|x13|x14|x15|x16|x17|x18|x19|x20|x21|\n",
    "|---|---|---|---|---|---|---|---|---|---|---|---|---|---|---|---|---|---|---|---|---|\n",
    "| Costos  |3|4|8|3|6|4|10|4|10|9|20|3|4|12|15|7|16|4|11|14|20\n",
    "| Volumen  |6|4|3|3|3|5|9|8|5|10|15|1|2|10|4|3|11|4|2|4|10\n",
    "\n",
    "**El volumen total de la mochila es de b ≤ 50 unidades**\n"
   ]
  },
  {
   "cell_type": "markdown",
   "metadata": {},
   "source": [
    "**1. Definición formal del sistema:**\n",
    "\n",
    "Max v = ∑ x\n",
    "n\n",
    "j=1\n",
    "cj j\n",
    "\n",
    "s.a: j=1 to n ∑ aj xj ≤ 50, | x∈{0,1} ; j = 1,….., n\n",
    "\n",
    "**2. Complejidad y espacio de soluciones (Espacio de Banach)**\n",
    "\n",
    "O(N)\n",
    "\n",
    "**3. Definición de espacio computacional.**\n",
    "\n",
    "Factorial:\n",
    "\n",
    "n! = 21! = 5.109094217 E+19\n",
    "\n",
    "Suponiendo que cada operación ocupa 1 byte, tenemos que:\n",
    "\n",
    "4'646'694.1212202068418 Tebibyte"
   ]
  },
  {
   "cell_type": "code",
   "execution_count": 1,
   "metadata": {},
   "outputs": [
    {
     "name": "stdout",
     "output_type": "stream",
     "text": [
      "WEIGHTS SUM 187\n",
      "VALUES SUM:  122\n",
      "\n",
      "(index, weigth, value, value/weigth(density))\n",
      "\n",
      "[(0, 3, 6, 0.5, 18),\n",
      " (1, 4, 4, 1.0, 16),\n",
      " (2, 8, 3, 2.6666666666666665, 24),\n",
      " (3, 3, 3, 1.0, 9),\n",
      " (4, 6, 3, 2.0, 18),\n",
      " (5, 4, 5, 0.8, 20),\n",
      " (6, 10, 9, 1.1111111111111112, 90),\n",
      " (7, 4, 8, 0.5, 32),\n",
      " (8, 10, 5, 2.0, 50),\n",
      " (9, 9, 10, 0.9, 90),\n",
      " (10, 20, 15, 1.3333333333333333, 300),\n",
      " (11, 3, 1, 3.0, 3),\n",
      " (12, 4, 2, 2.0, 8),\n",
      " (13, 12, 10, 1.2, 120),\n",
      " (14, 15, 4, 3.75, 60),\n",
      " (15, 7, 3, 2.3333333333333335, 21),\n",
      " (16, 16, 11, 1.4545454545454546, 176),\n",
      " (17, 4, 4, 1.0, 16),\n",
      " (18, 11, 2, 5.5, 22),\n",
      " (19, 14, 4, 3.5, 56),\n",
      " (20, 20, 10, 2.0, 200)]\n"
     ]
    }
   ],
   "source": [
    "from pprint import pprint  # To format output\n",
    "from operator import truediv, mul ##  function operators\n",
    "\n",
    "# Solver Parameters\n",
    "\n",
    "weights = [3, 4, 8, 3, 6, 4, 10, 4, 10, 9, 20, 3, 4, 12, 15, 7, 16, 4, 11, 14,\n",
    "20]\n",
    "values = [6, 4, 3, 3, 3, 5, 9, 8, 5, 10, 15, 1, 2, 10, 4, 3, 11, 4, 2, 4, 10]\n",
    "\n",
    "data = [] #formated data container\n",
    "w_sum = sum(weights) # element-by-element acummulate sum weights\n",
    "v_sum = sum(values)  # values\n",
    "density = 100 # density param.\n",
    "\n",
    "div_list = list(map(truediv, weights, values))\n",
    "mul_list = list(map(mul, weights, values))\n",
    "\n",
    "def get(item, case):\n",
    "    if(case == \"I\"):\n",
    "        return item[0]\n",
    "    elif(case == \"W\"):\n",
    "        return item[1]\n",
    "    elif(case == \"V\"):\n",
    "        return item[2]\n",
    "    elif(case == \"D\"):\n",
    "        return item[3]\n",
    "    elif(case == \"Vol\"):\n",
    "        return item[4]\n",
    "    else:\n",
    "        return item[0]\n",
    "        \n",
    "\n",
    "for i in range(0, 21):\n",
    "    data.append((i, weights[i], values[i], div_list[i], mul_list[i]))\n",
    "\n",
    "print(\"WEIGHTS SUM\", w_sum)\n",
    "print(\"VALUES SUM: \", v_sum)\n",
    "print()\n",
    "print(\"(index, weigth, value, value/weigth(density))\")\n",
    "print()\n",
    "pprint(data)"
   ]
  },
  {
   "cell_type": "markdown",
   "metadata": {},
   "source": [
    "#### H1: 4.1 Seleccionar en orden inverso del original"
   ]
  },
  {
   "cell_type": "code",
   "execution_count": 33,
   "metadata": {},
   "outputs": [
    {
     "name": "stdout",
     "output_type": "stream",
     "text": [
      "Density:  100\n",
      "TOTAL WEIGHTS:  32\n",
      "TOTAL VALUES:  11\n",
      "TOTAL VOLUME:  97\n",
      "Bag:  [19, 18, 17, 11]\n"
     ]
    }
   ],
   "source": [
    "def Hbase(data, w_acum, v_acum, vol_acum, bag, maxDensity=density):\n",
    "    res_data = []\n",
    "    for item in data:\n",
    "        if vol_acum + get(item, 'Vol') <= maxDensity:\n",
    "            bag.append(get(item, 'I'))\n",
    "            w_acum += get(item, 'W')\n",
    "            v_acum += get(item, 'V')\n",
    "            vol_acum += get(item, 'Vol')\n",
    "        else:\n",
    "            res_data.append(item)\n",
    "            \n",
    "    print(\"Density: \", maxDensity)\n",
    "    print(\"TOTAL WEIGHTS: \", w_acum)\n",
    "    print(\"TOTAL VALUES: \", v_acum)\n",
    "    print(\"TOTAL VOLUME: \", vol_acum)\n",
    "    print(\"Bag: \", bag)\n",
    "    return (res_data, w_acum, v_acum, vol_acum, bag)\n",
    "\n",
    "out = Hbase(reversed(data), 0, 0, 0, [])"
   ]
  },
  {
   "cell_type": "markdown",
   "metadata": {},
   "source": [
    "#### H2: 4.2 Seleccionar en orden original"
   ]
  },
  {
   "cell_type": "code",
   "execution_count": 16,
   "metadata": {},
   "outputs": [
    {
     "name": "stdout",
     "output_type": "stream",
     "text": [
      "Density:  100\n",
      "TOTAL WEIGHTS:  31\n",
      "TOTAL VALUES:  22\n",
      "TOTAL VOLUME:  96\n",
      "Bag:  [0, 1, 2, 3, 4, 11, 12]\n"
     ]
    },
    {
     "data": {
      "text/plain": [
       "(31, 22, 96, [0, 1, 2, 3, 4, 11, 12])"
      ]
     },
     "execution_count": 16,
     "metadata": {},
     "output_type": "execute_result"
    }
   ],
   "source": [
    "out = Hbase(data, 0, 0, 0, [])"
   ]
  },
  {
   "cell_type": "markdown",
   "metadata": {},
   "source": [
    "#### H3: 4.3 Seleccionar en orden ascendente (valor)"
   ]
  },
  {
   "cell_type": "code",
   "execution_count": 17,
   "metadata": {},
   "outputs": [
    {
     "name": "stdout",
     "output_type": "stream",
     "text": [
      "Density:  100\n",
      "TOTAL WEIGHTS:  39\n",
      "TOTAL VALUES:  18\n",
      "TOTAL VOLUME:  100\n",
      "Bag:  [11, 12, 18, 2, 3, 4, 1]\n"
     ]
    },
    {
     "data": {
      "text/plain": [
       "(39, 18, 100, [11, 12, 18, 2, 3, 4, 1])"
      ]
     },
     "execution_count": 17,
     "metadata": {},
     "output_type": "execute_result"
    }
   ],
   "source": [
    "formated_data = sorted(data, key=lambda item: get(item, 'V'))\n",
    "out = Hbase(formated_data, 0, 0, 0, [])"
   ]
  },
  {
   "cell_type": "markdown",
   "metadata": {},
   "source": [
    "#### H4: 4.4 Seleccionar en orden descendente (valor)"
   ]
  },
  {
   "cell_type": "code",
   "execution_count": 18,
   "metadata": {},
   "outputs": [
    {
     "name": "stdout",
     "output_type": "stream",
     "text": [
      "Density:  100\n",
      "TOTAL WEIGHTS:  12\n",
      "TOTAL VALUES:  13\n",
      "TOTAL VOLUME:  99\n",
      "Bag:  [9, 3]\n"
     ]
    }
   ],
   "source": [
    "formated_data = sorted(data, key=lambda item: get(item, 'V'), reverse=True)\n",
    "out = Hbase(formated_data, 0, 0, 0, [])"
   ]
  },
  {
   "cell_type": "markdown",
   "metadata": {},
   "source": [
    "#### H5: 4.5 Seleccionar en orden descendente (density)\n"
   ]
  },
  {
   "cell_type": "code",
   "execution_count": 8,
   "metadata": {},
   "outputs": [
    {
     "name": "stdout",
     "output_type": "stream",
     "text": [
      "Density:  100\n",
      "TOTAL WEIGHTS:  33\n",
      "TOTAL VALUES:  9\n",
      "TOTAL VOLUME:  93\n",
      "Bag:  [18, 14, 11, 12]\n"
     ]
    }
   ],
   "source": [
    "formated_data = sorted(data, key=lambda item: get(item, 'D'), reverse=True)\n",
    "out = Hbase(formated_data, 0, 0, 0, [])"
   ]
  },
  {
   "cell_type": "markdown",
   "metadata": {},
   "source": [
    "#### H6: 4.6 Seleccionar en orden ascendente (density)"
   ]
  },
  {
   "cell_type": "code",
   "execution_count": 9,
   "metadata": {},
   "outputs": [
    {
     "name": "stdout",
     "output_type": "stream",
     "text": [
      "Density:  100\n",
      "TOTAL WEIGHTS:  21\n",
      "TOTAL VALUES:  27\n",
      "TOTAL VOLUME:  98\n",
      "Bag:  [0, 7, 5, 1, 3, 11]\n"
     ]
    }
   ],
   "source": [
    "formated_data = sorted(data, key=lambda item: get(item, 'D'))\n",
    "out = Hbase(formated_data, 0, 0, 0, [])"
   ]
  },
  {
   "cell_type": "markdown",
   "metadata": {},
   "source": [
    "#### 5.1 Dividir la mochila en 3"
   ]
  },
  {
   "cell_type": "code",
   "execution_count": null,
   "metadata": {},
   "outputs": [],
   "source": [
    "first_bag = sorted(data, key=lambda item: get(item, 'D'))\n",
    "out1 = Hbase(first_bag, 0, 0, 0, [], density//3)\n",
    "second_bag = sorted(out1[0], key=lambda item: get(item, 'V'))\n",
    "out2 = Hbase(second_bag, 0, 0, 0, [], density//3)\n",
    "third_bag = sorted(out2[0], key=lambda item: get(item, 'W'), reverse=True)\n",
    "\n",
    "\n",
    "\n",
    "formated_down = sorted(downHalf, key= lambda item: get(item, 'V'))\n",
    "print(\"first half\")\n",
    "print(\"\\nsecond half\")\n",
    "out2 = Hbase(formated_down, 0, 0, 0, [], density//2)\n",
    "print(\"combined\")\n",
    "print(\"Density: \", density)\n",
    "print(\"TOTAL WEIGHTS: \", out1[0] + out2[0])\n",
    "print(\"TOTAL VALUES: \", out1[1] + out2[1])\n",
    "print(\"TOTAL VOLUME: \", out1[2] + out2[2])\n",
    "print(\"Bag: \", out1[3] + out2[3])"
   ]
  },
  {
   "cell_type": "markdown",
   "metadata": {},
   "source": [
    "#### 5.2 Dividir la productos en 2 grupos"
   ]
  },
  {
   "cell_type": "code",
   "execution_count": 34,
   "metadata": {},
   "outputs": [
    {
     "name": "stdout",
     "output_type": "stream",
     "text": [
      "first half\n",
      "Density:  50\n",
      "TOTAL WEIGHTS:  7\n",
      "TOTAL VALUES:  14\n",
      "TOTAL VOLUME:  50\n",
      "Bag:  [0, 7]\n",
      "\n",
      "second half\n",
      "Density:  50\n",
      "TOTAL WEIGHTS:  22\n",
      "TOTAL VALUES:  9\n",
      "TOTAL VOLUME:  49\n",
      "Bag:  [11, 12, 18, 17]\n",
      "combined\n",
      "Density:  100\n",
      "TOTAL WEIGHTS:  29\n",
      "TOTAL VALUES:  23\n",
      "TOTAL VOLUME:  99\n",
      "Bag:  [0, 7, 11, 12, 18, 17]\n"
     ]
    }
   ],
   "source": [
    "upHalf = data[:len(data)//2]\n",
    "downHalf= data[len(data)//2:]\n",
    "formated_up = sorted(upHalf, key=lambda item: get(item, 'D'))\n",
    "formated_down = sorted(downHalf, key= lambda item: get(item, 'V'))\n",
    "print(\"first half\")\n",
    "out1 = Hbase(formated_up, 0, 0, 0, [], density//2)\n",
    "print(\"\\nsecond half\")\n",
    "out2 = Hbase(formated_down, 0, 0, 0, [], density//2)\n",
    "print(\"combined\")\n",
    "print(\"Density: \", density)\n",
    "print(\"TOTAL WEIGHTS: \", out1[1] + out2[1])\n",
    "print(\"TOTAL VALUES: \", out1[2] + out2[2])\n",
    "print(\"TOTAL VOLUME: \", out1[3] + out2[3])\n",
    "print(\"Bag: \", out1[4] + out2[4])"
   ]
  },
  {
   "cell_type": "markdown",
   "metadata": {},
   "source": [
    "#### 6.1  Sacar de la mochila menor valor"
   ]
  },
  {
   "cell_type": "code",
   "execution_count": 31,
   "metadata": {
    "scrolled": true
   },
   "outputs": [
    {
     "name": "stdout",
     "output_type": "stream",
     "text": [
      "Density:  100\n",
      "TOTAL WEIGHTS:  39\n",
      "TOTAL VALUES:  18\n",
      "TOTAL VOLUME:  100\n",
      "Bag:  [11, 12, 18, 2, 3, 4, 1]\n"
     ]
    }
   ],
   "source": [
    "formated_data = sorted(data, key=lambda item: get(item, 'V'))\n",
    "out = Hbase(formated_data, 0, 0, 0, [])"
   ]
  },
  {
   "cell_type": "markdown",
   "metadata": {},
   "source": [
    "#### 6.1  Sacar de la mochila menor densidad"
   ]
  },
  {
   "cell_type": "code",
   "execution_count": 32,
   "metadata": {},
   "outputs": [
    {
     "name": "stdout",
     "output_type": "stream",
     "text": [
      "Density:  100\n",
      "TOTAL WEIGHTS:  21\n",
      "TOTAL VALUES:  27\n",
      "TOTAL VOLUME:  98\n",
      "Bag:  [0, 7, 5, 1, 3, 11]\n"
     ]
    }
   ],
   "source": [
    "formated_data = sorted(data, key=lambda item: get(item, 'D'))\n",
    "out = Hbase(formated_data, 0, 0, 0, [])"
   ]
  },
  {
   "cell_type": "code",
   "execution_count": null,
   "metadata": {},
   "outputs": [],
   "source": []
  }
 ],
 "metadata": {
  "kernelspec": {
   "display_name": "Python 3",
   "language": "python",
   "name": "python3"
  },
  "language_info": {
   "codemirror_mode": {
    "name": "ipython",
    "version": 3
   },
   "file_extension": ".py",
   "mimetype": "text/x-python",
   "name": "python",
   "nbconvert_exporter": "python",
   "pygments_lexer": "ipython3",
   "version": "3.6.4"
  }
 },
 "nbformat": 4,
 "nbformat_minor": 2
}
