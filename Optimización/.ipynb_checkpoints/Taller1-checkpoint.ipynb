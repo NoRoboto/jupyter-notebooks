{
 "cells": [
  {
   "cell_type": "markdown",
   "metadata": {},
   "source": [
    "# TALLER DE OPTIMIZACIÓN\n",
    "\n",
    "### Presentado por: Daniel Diaz - Alejandro Suarez\n"
   ]
  },
  {
   "cell_type": "markdown",
   "metadata": {},
   "source": [
    "1- Método gráfico.\n",
    "\n",
    "\n",
    "<img src=\"image1.png\",width=100% />\n",
    "\n",
    "Dada la condición de k de ser irrestricta para los valores aproximados de 0.5, se considera entonces la región factible por debajo de la recta Z = 8, se observa que x1 y x2 en dicho punto es óptimo (intercepto de pendiente m = -0.5).\n",
    "\n",
    "Dónde:\n",
    "\n",
    "- Si K=1 -> X1=2, X2=3, Z=8.\n",
    "- Si K=2 -> X1=2, X2=3, Z=8.\n",
    "- Si K=n -> X1=2, X2=3, Z=8.\n"
   ]
  },
  {
   "cell_type": "markdown",
   "metadata": {},
   "source": [
    "2- A) Método gráfico:\n",
    "\n",
    "<img src=\"image2.png\",width=100% />\n",
    "\n",
    "B) Reformulación:\n",
    "\n",
    "- F.O => Z = -x1' + x1'' + 4x2' - 12 \n",
    "- R1 => -3x1' + 3x1'' + x2' ≤ 9\n",
    "- R2 => x1' - x1'' + 2x2' ≤ 9\n",
    "\n",
    "C) Resolver por método simplex:"
   ]
  },
  {
   "cell_type": "code",
   "execution_count": 2,
   "metadata": {},
   "outputs": [
    {
     "name": "stdout",
     "output_type": "stream",
     "text": [
      "     fun: -9.857142857142858\n",
      " message: 'Optimization terminated successfully.'\n",
      "     nit: 2\n",
      "   slack: array([0.        , 0.        , 5.14285714])\n",
      "  status: 0\n",
      " success: True\n",
      "       x: array([-1.28571429,  2.14285714])\n",
      "x1 = -1.2857142857142858, x2 = 2.1428571428571432, z = 9.857142857142858\n"
     ]
    }
   ],
   "source": [
    "from scipy.optimize import linprog\n",
    "import numpy as np\n",
    "\n",
    "# objective fuction\n",
    "z = np.array([-1, 4])\n",
    "\n",
    "# Constraints\n",
    "C = np.array([\n",
    "    [-3, 1],  # C1\n",
    "    [1, 2],\n",
    "    [0, -1]  # C2\n",
    "])\n",
    "\n",
    "# upper_bound\n",
    "b = np.array([6, 3, 3])\n",
    "\n",
    "# bounds >= 0 for each variable\n",
    "x1 = (None, None)\n",
    "x2 = (None, None)\n",
    "\n",
    "# This LP problem has a maximize objective function and linprog supports minimize problems. To solve it:\n",
    "sol = linprog(-z, A_ub=C, b_ub=b, bounds=(x1, x2), method='simplex')\n",
    "\n",
    "print(sol)\n",
    "\n",
    "print(\"x1 = {}, x2 = {}, z = {}\".format(sol.x[0], sol.x[1], sol.fun*-1))"
   ]
  },
  {
   "cell_type": "markdown",
   "metadata": {},
   "source": [
    "3- Utilice la idea fundamental del método Simplex para identificar los números que faltan en la tabla:\n",
    "\n",
    "|     | x1 | x2 | x3 | x4 | x5 | x6 |  RHS |\n",
    "|-----|----|----|----|----|----|----|:----:|\n",
    "|  z  |  0 | 7  | 0  | 2  | 0  | 2  | 6    |\n",
    "| x5  | 0  | 4  | 0  | 1  | 1  | 2  | 7    |\n",
    "|  x3 | 0  | 4  | 1  | -2 | 0  | 4  | 0    |\n",
    "| x1  | 1  | 0  | 0  | 1  | 0  | -1 | 1    |\n",
    "\n",
    "Usando:\n",
    "\n",
    "|   Z  | x0 | XN | RHS |\n",
    "|-----|----|----|:----:|\n",
    "|  1  |  0 | cB^(-1) * B ^ -1 * N - cN ^ t | cB^(-1) * B ^ -1  |\n",
    "| 0  | I  |  B ^ -1 * N | B ^ -1 * b  |\n",
    "\n",
    "\n",
    "Dónde:\n",
    "\n",
    "- B^(-1) * N:\n",
    "\n",
    "|  \t|  \t|  \t|\n",
    "|----\t|---\t|----\t|\n",
    "|  1 \t| 1 \t| 2 \t|\n",
    "| -2 \t| 0 \t| 4 \t|\n",
    "| 1 \t| 0 \t| -1 \t|\n",
    "\n",
    "- N (Coeficientes de las restricciones):\n",
    "\n",
    "|  \t|  \t|  \t|\n",
    "|----\t|---\t|----\t|\n",
    "|  2 \t| 2 \t| 1/2 \t|\n",
    "| -4 \t| -2 \t| -3/2\t|\n",
    "| 1 \t| 2\t| 1/2 \t|\n",
    "\n",
    "\n",
    "- Cb ^ t: Coeficientes de las variables básicas.\n",
    "\n",
    "| X5 \t| X3 \t|  X1\t|\n",
    "|----\t|---\t|----\t|\n",
    "|  0 \t| 2 \t| 6\t|\n",
    "\n"
   ]
  },
  {
   "cell_type": "markdown",
   "metadata": {},
   "source": [
    "4- Resolver por simplex:\n",
    "\n",
    "A)"
   ]
  },
  {
   "cell_type": "code",
   "execution_count": 6,
   "metadata": {},
   "outputs": [
    {
     "name": "stdout",
     "output_type": "stream",
     "text": [
      "     fun: -4.0\n",
      " message: 'Optimization failed. The problem appears to be unbounded.'\n",
      "     nit: 3\n",
      "   slack: array([4., 6., 0.])\n",
      "  status: 3\n",
      " success: False\n",
      "       x: array([2., 0., 0.])\n",
      "x1 = 2.0, x2 = 0.0, z = 4.0\n"
     ]
    }
   ],
   "source": [
    "from scipy.optimize import linprog\n",
    "import numpy as np\n",
    "\n",
    "\n",
    "#objective fuction\n",
    "z = np.array([2,-1,1])\n",
    "\n",
    "#Constraints\n",
    "C = np.array([\n",
    "    [2,1,-2],          #C1\n",
    "    [-4,1,-2],\n",
    "    [-2,-3,1]           #C2\n",
    "])\n",
    "\n",
    "#upper_bound\n",
    "b = np.array([8,-2,-4])\n",
    "\n",
    "#bounds >= 0 for each variable\n",
    "x1 = (0, None)\n",
    "x2 = (0, None)\n",
    "x3 = (0, None)\n",
    "\n",
    "#This LP problem has a maximize objective function and linprog supports minimize problems. To solve it:\n",
    "sol = linprog(-z, A_ub = C, b_ub = b, bounds = (x1, x2, x3), method='simplex')\n",
    "\n",
    "print(sol)\n",
    "\n",
    "print(\"x1 = {}, x2 = {}, z = {}\".format(sol.x[0], sol.x[1], sol.fun*-1))\n"
   ]
  },
  {
   "cell_type": "markdown",
   "metadata": {},
   "source": [
    "El problema no tiene solución. "
   ]
  },
  {
   "cell_type": "markdown",
   "metadata": {},
   "source": [
    "C)"
   ]
  },
  {
   "cell_type": "code",
   "execution_count": 4,
   "metadata": {},
   "outputs": [
    {
     "name": "stdout",
     "output_type": "stream",
     "text": [
      "     fun: 1.75\n",
      " message: 'Optimization failed. Unable to find a feasible starting point.'\n",
      "     nit: 3\n",
      "  status: 2\n",
      " success: False\n",
      "       x: nan\n"
     ]
    },
    {
     "ename": "TypeError",
     "evalue": "'float' object is not subscriptable",
     "output_type": "error",
     "traceback": [
      "\u001b[0;31m---------------------------------------------------------------------------\u001b[0m",
      "\u001b[0;31mTypeError\u001b[0m                                 Traceback (most recent call last)",
      "\u001b[0;32m<ipython-input-4-6a84ebb04b98>\u001b[0m in \u001b[0;36m<module>\u001b[0;34m()\u001b[0m\n\u001b[1;32m     26\u001b[0m \u001b[0mprint\u001b[0m\u001b[0;34m(\u001b[0m\u001b[0msol\u001b[0m\u001b[0;34m)\u001b[0m\u001b[0;34m\u001b[0m\u001b[0m\n\u001b[1;32m     27\u001b[0m \u001b[0;34m\u001b[0m\u001b[0m\n\u001b[0;32m---> 28\u001b[0;31m \u001b[0mprint\u001b[0m\u001b[0;34m(\u001b[0m\u001b[0;34m\"x1 = {}, x2 = {}, z = {}\"\u001b[0m\u001b[0;34m.\u001b[0m\u001b[0mformat\u001b[0m\u001b[0;34m(\u001b[0m\u001b[0msol\u001b[0m\u001b[0;34m.\u001b[0m\u001b[0mx\u001b[0m\u001b[0;34m[\u001b[0m\u001b[0;36m0\u001b[0m\u001b[0;34m]\u001b[0m\u001b[0;34m,\u001b[0m \u001b[0msol\u001b[0m\u001b[0;34m.\u001b[0m\u001b[0mx\u001b[0m\u001b[0;34m[\u001b[0m\u001b[0;36m1\u001b[0m\u001b[0;34m]\u001b[0m\u001b[0;34m,\u001b[0m \u001b[0msol\u001b[0m\u001b[0;34m.\u001b[0m\u001b[0mfun\u001b[0m\u001b[0;34m*\u001b[0m\u001b[0;34m-\u001b[0m\u001b[0;36m1\u001b[0m\u001b[0;34m)\u001b[0m\u001b[0;34m)\u001b[0m\u001b[0;34m\u001b[0m\u001b[0m\n\u001b[0m",
      "\u001b[0;31mTypeError\u001b[0m: 'float' object is not subscriptable"
     ]
    }
   ],
   "source": [
    "from scipy.optimize import linprog\n",
    "import numpy as np\n",
    "\n",
    "\n",
    "#objective fuction\n",
    "z = np.array([1,3,-1])\n",
    "\n",
    "#Constraints\n",
    "C = np.array([\n",
    "    [-2,-1,-1],          #C1\n",
    "    [1,-1,0],\n",
    "    [-1,5,1]           #C2\n",
    "])\n",
    "\n",
    "#upper_bound\n",
    "b = np.array([-3,-2,4])\n",
    "\n",
    "#bounds >= 0 for each variable\n",
    "x1 = (0, None)\n",
    "x2 = (0, None)\n",
    "x3 = (0, None)\n",
    "\n",
    "#This LP problem has a maximize objective function and linprog supports minimize problems. To solve it:\n",
    "sol = linprog(z, A_ub = C, b_ub = b, bounds = (x1, x2, x3), method='simplex')\n",
    "\n",
    "print(sol)\n",
    "\n",
    "print(\"x1 = {}, x2 = {}, z = {}\".format(sol.x[0], sol.x[1], sol.fun*-1))"
   ]
  },
  {
   "cell_type": "markdown",
   "metadata": {},
   "source": [
    "El problema no tiene solución"
   ]
  },
  {
   "cell_type": "markdown",
   "metadata": {},
   "source": [
    "D)"
   ]
  },
  {
   "cell_type": "code",
   "execution_count": 5,
   "metadata": {},
   "outputs": [
    {
     "name": "stdout",
     "output_type": "stream",
     "text": [
      "     fun: 20.0\n",
      " message: 'Optimization failed. Unable to find a feasible starting point.'\n",
      "     nit: 1\n",
      "  status: 2\n",
      " success: False\n",
      "       x: nan\n"
     ]
    },
    {
     "ename": "TypeError",
     "evalue": "'float' object is not subscriptable",
     "output_type": "error",
     "traceback": [
      "\u001b[0;31m---------------------------------------------------------------------------\u001b[0m",
      "\u001b[0;31mTypeError\u001b[0m                                 Traceback (most recent call last)",
      "\u001b[0;32m<ipython-input-5-b2f89c27d132>\u001b[0m in \u001b[0;36m<module>\u001b[0;34m()\u001b[0m\n\u001b[1;32m     26\u001b[0m \u001b[0mprint\u001b[0m\u001b[0;34m(\u001b[0m\u001b[0msol\u001b[0m\u001b[0;34m)\u001b[0m\u001b[0;34m\u001b[0m\u001b[0m\n\u001b[1;32m     27\u001b[0m \u001b[0;34m\u001b[0m\u001b[0m\n\u001b[0;32m---> 28\u001b[0;31m \u001b[0mprint\u001b[0m\u001b[0;34m(\u001b[0m\u001b[0;34m\"x1 = {}, x2 = {}, z = {}\"\u001b[0m\u001b[0;34m.\u001b[0m\u001b[0mformat\u001b[0m\u001b[0;34m(\u001b[0m\u001b[0msol\u001b[0m\u001b[0;34m.\u001b[0m\u001b[0mx\u001b[0m\u001b[0;34m[\u001b[0m\u001b[0;36m0\u001b[0m\u001b[0;34m]\u001b[0m\u001b[0;34m,\u001b[0m \u001b[0msol\u001b[0m\u001b[0;34m.\u001b[0m\u001b[0mx\u001b[0m\u001b[0;34m[\u001b[0m\u001b[0;36m1\u001b[0m\u001b[0;34m]\u001b[0m\u001b[0;34m,\u001b[0m \u001b[0msol\u001b[0m\u001b[0;34m.\u001b[0m\u001b[0mfun\u001b[0m\u001b[0;34m*\u001b[0m\u001b[0;34m-\u001b[0m\u001b[0;36m1\u001b[0m\u001b[0;34m)\u001b[0m\u001b[0;34m)\u001b[0m\u001b[0;34m\u001b[0m\u001b[0m\n\u001b[0m",
      "\u001b[0;31mTypeError\u001b[0m: 'float' object is not subscriptable"
     ]
    }
   ],
   "source": [
    "from scipy.optimize import linprog\n",
    "import numpy as np\n",
    "\n",
    "#objective fuction\n",
    "z = np.array([4,5,-3])\n",
    "\n",
    "#Constraints\n",
    "C = np.array([\n",
    "    [1,1,1],          \n",
    "    [-1,-1,-1],\n",
    "    [-1,1,0],\n",
    "    [1,3,1]          \n",
    "])\n",
    "\n",
    "#upper_bound\n",
    "b = np.array([-10,-10,-1,14])\n",
    "\n",
    "#bounds >= 0 for each variable\n",
    "x1 = (0, None)\n",
    "x2 = (0, None)\n",
    "x3 = (0, None)\n",
    "\n",
    "#This LP problem has a maximize objective function and linprog supports minimize problems. To solve it:\n",
    "sol = linprog(-z, A_ub = C, b_ub = b, bounds = (x1, x2, x3), method='simplex')\n",
    "\n",
    "print(sol)\n",
    "\n",
    "print(\"x1 = {}, x2 = {}, z = {}\".format(sol.x[0], sol.x[1], sol.fun*-1))"
   ]
  },
  {
   "cell_type": "markdown",
   "metadata": {},
   "source": [
    "El problema no tiene solución"
   ]
  },
  {
   "cell_type": "code",
   "execution_count": null,
   "metadata": {},
   "outputs": [],
   "source": []
  },
  {
   "cell_type": "code",
   "execution_count": null,
   "metadata": {},
   "outputs": [],
   "source": []
  }
 ],
 "metadata": {
  "kernelspec": {
   "display_name": "Python 3",
   "language": "python",
   "name": "python3"
  },
  "language_info": {
   "codemirror_mode": {
    "name": "ipython",
    "version": 3
   },
   "file_extension": ".py",
   "mimetype": "text/x-python",
   "name": "python",
   "nbconvert_exporter": "python",
   "pygments_lexer": "ipython3",
   "version": "3.6.4"
  }
 },
 "nbformat": 4,
 "nbformat_minor": 2
}
