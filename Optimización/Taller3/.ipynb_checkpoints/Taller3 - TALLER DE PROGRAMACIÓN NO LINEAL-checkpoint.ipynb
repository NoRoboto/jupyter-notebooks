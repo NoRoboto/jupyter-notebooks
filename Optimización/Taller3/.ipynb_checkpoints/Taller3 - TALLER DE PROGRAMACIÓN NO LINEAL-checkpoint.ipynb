{
 "cells": [
  {
   "cell_type": "markdown",
   "metadata": {},
   "source": [
    "# TALLER DE PROGRAMACIÓN NO LINEAL \n",
    "\n",
    "### Daniel Diaz - Alejandro Suarez"
   ]
  },
  {
   "cell_type": "code",
   "execution_count": 31,
   "metadata": {},
   "outputs": [],
   "source": [
    "import scipy.optimize as optimize\n",
    "import numpy as np"
   ]
  },
  {
   "cell_type": "markdown",
   "metadata": {},
   "source": [
    "### 1- Criterio:\n",
    "\n",
    "f′+,f′′+=concave\n",
    "\n",
    "f′+,f′′−=convex\n",
    "\n",
    "f′−,f′′+=concave\n",
    "\n",
    "f′−,f′′−=convex\n",
    "\n",
    "[the-ellipse-and-the-hyperbola-are-convex](https://math.stackexchange.com/questions/852664/show-that-the-ellipse-and-the-hyperbola-are-convex)\n",
    "\n",
    "#### fx=x1x2-x1^2-x2^2 \n",
    "\n",
    "f'(x1) = -2x1 f''(x1) = -2 convexa.\n",
    "\n",
    "f'(x2) = -2x2 f''(x2) = -2 convexa.\n",
    "\n",
    "<img src=\"files/1.png\">\n",
    "<img src=\"files/2.png\">\n",
    "\n",
    "#### fx=3x1+2x^2+4x2+x2^2-2x1x2\n",
    "\n",
    "f'(x1) = 3 + 4x1 f''(x1) = 4 cóncava.\n",
    "\n",
    "f'(x2) = 4 + 2x2 f''(x2) = 2 cóncava.\n",
    "\n",
    "\n",
    "<img src=\"files/3.png\">\n",
    "<img src=\"files/4.png\">\n",
    "\n",
    "#### fx=x1^2+2x2^2+3x1x2 \n",
    "\n",
    "f'(x1) = 2x1 f''(x1) = 2 cóncava.\n",
    "\n",
    "f'(x2) = 4x f''(x2) = 4 cóncava.\n",
    "\n",
    "\n",
    "<img src=\"files/5.png\">\n",
    "<img src=\"files/6.png\">\n",
    "\n",
    "\n",
    "#### fx=20x1+10x2 \n",
    "\n",
    "f'(x1) = 20 f''(x1) = 0 + c Semi concavo\n",
    "\n",
    "f'(x2) = 10 f''(x2) = 0 + c Semi concavo\n",
    "\n",
    "<img src=\"files/5.png\">\n",
    "<img src=\"files/6.png\">\n",
    "\n",
    "#### fx=x1+x2\n",
    "\n",
    "f'(x1) = 0 f''(x1) = c \"turning\" point\n",
    "\n",
    "f'(x2) = 0 f''(x2) = c \"turning\" point\n",
    "\n",
    "<img src=\"files/7.png\">\n",
    "<img src=\"files/8.png\">\n",
    "\n"
   ]
  },
  {
   "cell_type": "markdown",
   "metadata": {},
   "source": [
    "### 2- Aplicar Método de Bisección y Newton:\n",
    "\n",
    "fx=x3+2x-2x^2-0.25x^4 \n",
    "\n",
    "0≤x1≤24\n",
    "\n",
    "<img src=\"files/9.png\">"
   ]
  },
  {
   "cell_type": "code",
   "execution_count": 25,
   "metadata": {},
   "outputs": [
    {
     "name": "stdout",
     "output_type": "stream",
     "text": [
      "Bisection method: (0.0,       converged: True\n",
      "           flag: 'converged'\n",
      " function_calls: 2\n",
      "     iterations: 0\n",
      "           root: 0.0)\n"
     ]
    }
   ],
   "source": [
    "def func1(x):\n",
    "    return (x**3 + 2 * x) - (2 * x**2) - (0.25 * x**4)\n",
    "\n",
    "print(\"Bisection method:\", optimize.bisect(func1, 0, 24, full_output=True, rtol=0.004))"
   ]
  },
  {
   "cell_type": "code",
   "execution_count": 26,
   "metadata": {},
   "outputs": [
    {
     "name": "stdout",
     "output_type": "stream",
     "text": [
      "Newton method: 2.000004219276435\n"
     ]
    }
   ],
   "source": [
    "print(\"Newton method:\", optimize.newton(func1, x0=1.2, tol=0.001))"
   ]
  },
  {
   "cell_type": "markdown",
   "metadata": {},
   "source": [
    "### 2- Aplicar Método de Bisección y Newton:\n",
    "\n",
    "f(x1,x2) = 100(x2 - x1^2)^2 + (1 - x1^2)"
   ]
  },
  {
   "cell_type": "code",
   "execution_count": 34,
   "metadata": {},
   "outputs": [
    {
     "ename": "ValueError",
     "evalue": "Jacobian is required for Newton-CG method",
     "output_type": "error",
     "traceback": [
      "\u001b[0;31m---------------------------------------------------------------------------\u001b[0m",
      "\u001b[0;31mValueError\u001b[0m                                Traceback (most recent call last)",
      "\u001b[0;32m<ipython-input-34-a5e77113dd44>\u001b[0m in \u001b[0;36m<module>\u001b[0;34m()\u001b[0m\n\u001b[1;32m      5\u001b[0m \u001b[0mx0\u001b[0m \u001b[0;34m=\u001b[0m \u001b[0mnp\u001b[0m\u001b[0;34m.\u001b[0m\u001b[0marray\u001b[0m\u001b[0;34m(\u001b[0m\u001b[0;34m[\u001b[0m\u001b[0;36m0\u001b[0m\u001b[0;34m,\u001b[0m \u001b[0;36m0\u001b[0m\u001b[0;34m]\u001b[0m\u001b[0;34m)\u001b[0m\u001b[0;34m\u001b[0m\u001b[0m\n\u001b[1;32m      6\u001b[0m \u001b[0;34m\u001b[0m\u001b[0m\n\u001b[0;32m----> 7\u001b[0;31m \u001b[0mprint\u001b[0m\u001b[0;34m(\u001b[0m\u001b[0;34m\"Newton method:\"\u001b[0m\u001b[0;34m,\u001b[0m \u001b[0moptimize\u001b[0m\u001b[0;34m.\u001b[0m\u001b[0mminimize\u001b[0m\u001b[0;34m(\u001b[0m\u001b[0mrosen\u001b[0m\u001b[0;34m,\u001b[0m \u001b[0mx0\u001b[0m\u001b[0;34m,\u001b[0m \u001b[0mmethod\u001b[0m\u001b[0;34m=\u001b[0m\u001b[0;34m'Newton-CG'\u001b[0m\u001b[0;34m)\u001b[0m\u001b[0;34m)\u001b[0m\u001b[0;34m\u001b[0m\u001b[0m\n\u001b[0m",
      "\u001b[0;32m~/anaconda3/lib/python3.6/site-packages/scipy/optimize/_minimize.py\u001b[0m in \u001b[0;36mminimize\u001b[0;34m(fun, x0, args, method, jac, hess, hessp, bounds, constraints, tol, callback, options)\u001b[0m\n\u001b[1;32m    482\u001b[0m     \u001b[0;32melif\u001b[0m \u001b[0mmeth\u001b[0m \u001b[0;34m==\u001b[0m \u001b[0;34m'newton-cg'\u001b[0m\u001b[0;34m:\u001b[0m\u001b[0;34m\u001b[0m\u001b[0m\n\u001b[1;32m    483\u001b[0m         return _minimize_newtoncg(fun, x0, args, jac, hess, hessp, callback,\n\u001b[0;32m--> 484\u001b[0;31m                                   **options)\n\u001b[0m\u001b[1;32m    485\u001b[0m     \u001b[0;32melif\u001b[0m \u001b[0mmeth\u001b[0m \u001b[0;34m==\u001b[0m \u001b[0;34m'l-bfgs-b'\u001b[0m\u001b[0;34m:\u001b[0m\u001b[0;34m\u001b[0m\u001b[0m\n\u001b[1;32m    486\u001b[0m         return _minimize_lbfgsb(fun, x0, args, jac, bounds,\n",
      "\u001b[0;32m~/anaconda3/lib/python3.6/site-packages/scipy/optimize/optimize.py\u001b[0m in \u001b[0;36m_minimize_newtoncg\u001b[0;34m(fun, x0, args, jac, hess, hessp, callback, xtol, eps, maxiter, disp, return_all, **unknown_options)\u001b[0m\n\u001b[1;32m   1499\u001b[0m     \u001b[0m_check_unknown_options\u001b[0m\u001b[0;34m(\u001b[0m\u001b[0munknown_options\u001b[0m\u001b[0;34m)\u001b[0m\u001b[0;34m\u001b[0m\u001b[0m\n\u001b[1;32m   1500\u001b[0m     \u001b[0;32mif\u001b[0m \u001b[0mjac\u001b[0m \u001b[0;32mis\u001b[0m \u001b[0;32mNone\u001b[0m\u001b[0;34m:\u001b[0m\u001b[0;34m\u001b[0m\u001b[0m\n\u001b[0;32m-> 1501\u001b[0;31m         \u001b[0;32mraise\u001b[0m \u001b[0mValueError\u001b[0m\u001b[0;34m(\u001b[0m\u001b[0;34m'Jacobian is required for Newton-CG method'\u001b[0m\u001b[0;34m)\u001b[0m\u001b[0;34m\u001b[0m\u001b[0m\n\u001b[0m\u001b[1;32m   1502\u001b[0m     \u001b[0mf\u001b[0m \u001b[0;34m=\u001b[0m \u001b[0mfun\u001b[0m\u001b[0;34m\u001b[0m\u001b[0m\n\u001b[1;32m   1503\u001b[0m     \u001b[0mfprime\u001b[0m \u001b[0;34m=\u001b[0m \u001b[0mjac\u001b[0m\u001b[0;34m\u001b[0m\u001b[0m\n",
      "\u001b[0;31mValueError\u001b[0m: Jacobian is required for Newton-CG method"
     ]
    }
   ],
   "source": [
    "def rosen(x):\n",
    "    \"\"\"The Rosenbrock function\"\"\"\n",
    "    return sum(100.0*(x[1:]-x[:-1]**2.0)**2.0 + (1-x[:-1])**2.0)\n",
    "\n",
    "x0 = np.array([0, 0])\n",
    "\n",
    "print(\"Newton method:\", optimize.minimize(rosen, x0, method='Newton-CG'))"
   ]
  },
  {
   "cell_type": "code",
   "execution_count": null,
   "metadata": {},
   "outputs": [],
   "source": []
  }
 ],
 "metadata": {
  "kernelspec": {
   "display_name": "Python 3",
   "language": "python",
   "name": "python3"
  },
  "language_info": {
   "codemirror_mode": {
    "name": "ipython",
    "version": 3
   },
   "file_extension": ".py",
   "mimetype": "text/x-python",
   "name": "python",
   "nbconvert_exporter": "python",
   "pygments_lexer": "ipython3",
   "version": "3.6.4"
  }
 },
 "nbformat": 4,
 "nbformat_minor": 2
}
