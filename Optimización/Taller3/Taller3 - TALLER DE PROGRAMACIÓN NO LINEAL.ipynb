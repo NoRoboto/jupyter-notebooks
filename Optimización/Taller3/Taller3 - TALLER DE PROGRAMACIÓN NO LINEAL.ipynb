{
 "cells": [
  {
   "cell_type": "markdown",
   "metadata": {},
   "source": [
    "# TALLER DE PROGRAMACIÓN NO LINEAL \n",
    "\n",
    "### Daniel Diaz - Alejandro Suarez"
   ]
  },
  {
   "cell_type": "code",
   "execution_count": 1,
   "metadata": {},
   "outputs": [],
   "source": [
    "import scipy.optimize as optimize\n",
    "import numpy as np"
   ]
  },
  {
   "cell_type": "markdown",
   "metadata": {},
   "source": [
    "### 1- Criterio:\n",
    "\n",
    "f′+,f′′+=concave\n",
    "\n",
    "f′+,f′′−=convex\n",
    "\n",
    "f′−,f′′+=concave\n",
    "\n",
    "f′−,f′′−=convex\n",
    "\n",
    "[the-ellipse-and-the-hyperbola-are-convex](https://math.stackexchange.com/questions/852664/show-that-the-ellipse-and-the-hyperbola-are-convex)\n",
    "\n",
    "#### fx=x1x2-x1^2-x2^2 \n",
    "\n",
    "f'(x1) = -2x1 f''(x1) = -2 convexa.\n",
    "\n",
    "f'(x2) = -2x2 f''(x2) = -2 convexa.\n",
    "\n",
    "<img src=\"files/1.png\">\n",
    "<img src=\"files/2.png\">\n",
    "\n",
    "#### fx=3x1+2x^2+4x2+x2^2-2x1x2\n",
    "\n",
    "f'(x1) = 3 + 4x1 f''(x1) = 4 cóncava.\n",
    "\n",
    "f'(x2) = 4 + 2x2 f''(x2) = 2 cóncava.\n",
    "\n",
    "\n",
    "<img src=\"files/3.png\">\n",
    "<img src=\"files/4.png\">\n",
    "\n",
    "#### fx=x1^2+2x2^2+3x1x2 \n",
    "\n",
    "f'(x1) = 2x1 f''(x1) = 2 cóncava.\n",
    "\n",
    "f'(x2) = 4x f''(x2) = 4 cóncava.\n",
    "\n",
    "\n",
    "<img src=\"files/5.png\">\n",
    "<img src=\"files/6.png\">\n",
    "\n",
    "\n",
    "#### fx=20x1+10x2 \n",
    "\n",
    "f'(x1) = 20 f''(x1) = 0 + c Semi concavo\n",
    "\n",
    "f'(x2) = 10 f''(x2) = 0 + c Semi concavo\n",
    "\n",
    "<img src=\"files/5.png\">\n",
    "<img src=\"files/6.png\">\n",
    "\n",
    "#### fx=x1+x2\n",
    "\n",
    "f'(x1) = 0 f''(x1) = c \"turning\" point\n",
    "\n",
    "f'(x2) = 0 f''(x2) = c \"turning\" point\n",
    "\n",
    "<img src=\"files/7.png\">\n",
    "<img src=\"files/8.png\">\n",
    "\n"
   ]
  },
  {
   "cell_type": "markdown",
   "metadata": {},
   "source": [
    "### 2- Aplicar Método de Bisección y Newton:\n",
    "\n",
    "fx=x3+2x-2x^2-0.25x^4 \n",
    "\n",
    "0≤x1≤24\n",
    "\n",
    "<img src=\"files/9.png\">"
   ]
  },
  {
   "cell_type": "code",
   "execution_count": 2,
   "metadata": {},
   "outputs": [
    {
     "name": "stdout",
     "output_type": "stream",
     "text": [
      "Bisection method: (0.0,       converged: True\n",
      "           flag: 'converged'\n",
      " function_calls: 2\n",
      "     iterations: 0\n",
      "           root: 0.0)\n"
     ]
    }
   ],
   "source": [
    "def func1(x):\n",
    "    return (x**3 + 2 * x) - (2 * x**2) - (0.25 * x**4)\n",
    "\n",
    "print(\"Bisection method:\", optimize.bisect(func1, 0, 24, full_output=True, xtol=0.004))"
   ]
  },
  {
   "cell_type": "code",
   "execution_count": 3,
   "metadata": {},
   "outputs": [
    {
     "name": "stdout",
     "output_type": "stream",
     "text": [
      "Newton method: 2.000004219276435\n"
     ]
    }
   ],
   "source": [
    "print(\"Newton method:\", optimize.newton(func1, x0=1.2, tol=0.001))"
   ]
  },
  {
   "cell_type": "markdown",
   "metadata": {},
   "source": [
    "### 3- Aplicar Método de coordenadas cíclicas, gradiente y Newton:\n",
    "\n",
    "f(x1, x2) = 100(x2 - x1^2)^2 + (1 - x1^2) # rosenbrock function (multivariada = 2)\n",
    "\n",
    "Se reemplaza Coordenadas cíclicas por nelder-mead el cual usa simplex (el primero no se encuentra en el solver usado)"
   ]
  },
  {
   "cell_type": "code",
   "execution_count": 4,
   "metadata": {},
   "outputs": [
    {
     "name": "stdout",
     "output_type": "stream",
     "text": [
      "Optimization terminated successfully.\n",
      "         Current function value: 0.000000\n",
      "         Iterations: 35\n",
      "         Function evaluations: 55\n",
      "         Gradient evaluations: 89\n",
      "         Hessian evaluations: 35\n",
      "\n",
      "Newton CG method:      fun: 3.2093766919136996e-18\n",
      "     jac: array([ 5.94461863e-07, -2.98427461e-07])\n",
      " message: 'Optimization terminated successfully.'\n",
      "    nfev: 55\n",
      "    nhev: 35\n",
      "     nit: 35\n",
      "    njev: 89\n",
      "  status: 0\n",
      " success: True\n",
      "       x: array([1., 1.])\n"
     ]
    }
   ],
   "source": [
    "def rosen(x):\n",
    "    \"\"\"The Rosenbrock function\"\"\"\n",
    "    return sum(100.0*(x[1:]-x[:-1]**2.0)**2.0 + (1-x[:-1])**2.0)\n",
    "\n",
    "def rosen_der(x): # The gradient of the Rosenbrock function is the vector:\n",
    "    xm = x[1:-1]\n",
    "    xm_m1 = x[:-2]\n",
    "    xm_p1 = x[2:]\n",
    "    der = np.zeros_like(x)\n",
    "    der[1:-1] = 200*(xm-xm_m1**2) - 400*(xm_p1 - xm**2)*xm - 2*(1-xm)\n",
    "    der[0] = -400*x[0]*(x[1]-x[0]**2) - 2*(1-x[0])\n",
    "    der[-1] = 200*(x[-1]-x[-2]**2)\n",
    "    return der\n",
    "\n",
    "def rosen_hess(x):\n",
    "    x = np.asarray(x)\n",
    "    H = np.diag(-400*x[:-1],1) - np.diag(400*x[:-1],-1)\n",
    "    diagonal = np.zeros_like(x)\n",
    "    diagonal[0] = 1200*x[0]**2-400*x[1]+2\n",
    "    diagonal[-1] = 200\n",
    "    diagonal[1:-1] = 202 + 1200*x[1:-1]**2 - 400*x[2:]\n",
    "    H = H + np.diag(diagonal)\n",
    "    return H\n",
    "\n",
    "x0 = np.array([0, 0])\n",
    "\n",
    "print(\"\\nNewton CG method:\", optimize.minimize(rosen, x0, method='Newton-CG', jac=rosen_der, hess=rosen_hess, options={'xtol': 1e-8, 'disp': True}))"
   ]
  },
  {
   "cell_type": "code",
   "execution_count": 5,
   "metadata": {},
   "outputs": [
    {
     "name": "stdout",
     "output_type": "stream",
     "text": [
      "Conjugate gradient descent\n",
      "      fun: 2.0085382242752512e-11\n",
      "     jac: array([ 5.41245606e-06, -2.70523446e-06])\n",
      " message: 'Optimization terminated successfully.'\n",
      "    nfev: 220\n",
      "     nit: 21\n",
      "    njev: 55\n",
      "  status: 0\n",
      " success: True\n",
      "       x: array([0.99999552, 0.99999103])\n"
     ]
    }
   ],
   "source": [
    "print(\"Conjugate gradient descent\\n\", optimize.minimize(rosen, [0, 0], method=\"CG\"))"
   ]
  },
  {
   "cell_type": "code",
   "execution_count": 6,
   "metadata": {},
   "outputs": [
    {
     "name": "stdout",
     "output_type": "stream",
     "text": [
      "Optimization terminated successfully.\n",
      "         Current function value: 0.000000\n",
      "         Iterations: 110\n",
      "         Function evaluations: 206\n",
      "Nelder-Mead\n",
      "  final_simplex: (array([[1., 1.],\n",
      "       [1., 1.],\n",
      "       [1., 1.]]), array([2.65045900e-18, 6.43252125e-18, 1.09257777e-17]))\n",
      "           fun: 2.650458998741964e-18\n",
      "       message: 'Optimization terminated successfully.'\n",
      "          nfev: 206\n",
      "           nit: 110\n",
      "        status: 0\n",
      "       success: True\n",
      "             x: array([1., 1.])\n"
     ]
    }
   ],
   "source": [
    "print(\"Nelder-Mead\\n\", optimize.minimize(rosen, [0, 0], method='nelder-mead', options={'xtol': 1e-8, 'disp': True}))"
   ]
  },
  {
   "cell_type": "markdown",
   "metadata": {},
   "source": [
    "### 4-  problema de programación no lineal:\n",
    "\n",
    "z = (x1 - 9/4) ^ 2 + (x2 - 2) ^ 2\n",
    "\n",
    "S.A\n",
    "\n",
    "x2-x1^2≥0\n",
    "\n",
    "x1+x2≤6\n",
    "\n",
    "x1,x2 ≥0\n",
    "\n",
    "#### Naturaleza de la función:\n",
    "\n",
    "<img src=\"files/10.png\">\n",
    "<img src=\"files/11.png\">\n",
    "<img src=\"files/12.png\">\n",
    "\n",
    "#### condiciones de optimalidad\n",
    "\n",
    "\n"
   ]
  },
  {
   "cell_type": "code",
   "execution_count": 7,
   "metadata": {},
   "outputs": [
    {
     "name": "stdout",
     "output_type": "stream",
     "text": [
      "Initial SSE Objective: 9.0625\n",
      "Final SSE Objective: 0.6249999947299062\n",
      "Solution\n",
      "x1 = 1.500000011329049\n",
      "x2 = 2.250000023446958\n"
     ]
    }
   ],
   "source": [
    "def objective(x):\n",
    "    return ((x[0] - 9/4)**2 + (x[1] - 2)**2)\n",
    "\n",
    "def constraint1(x):\n",
    "    return x[1] - x[0]**2\n",
    "\n",
    "def constraint2(x):\n",
    "    return x[0] - x[1] + 6\n",
    "\n",
    "\n",
    "x0 = np.zeros(2)\n",
    "\n",
    "# show initial objective\n",
    "print('Initial SSE Objective: ' + str(objective(x0)))\n",
    "\n",
    "# optimize\n",
    "\n",
    "con1 = {'type': 'ineq', 'fun': constraint1}\n",
    "con2 = {'type': 'ineq', 'fun': constraint2}\n",
    "cons = ([con1,con2])\n",
    "\n",
    "solution = optimize.minimize(objective, x0, method='SLSQP',constraints=cons)\n",
    "\n",
    "x = solution.x\n",
    "\n",
    "# show final objective\n",
    "print('Final SSE Objective: ' + str(objective(x)))\n",
    "\n",
    "# print solution\n",
    "print('Solution')\n",
    "print('x1 = ' + str(x[0]))\n",
    "print('x2 = ' + str(x[1]))\n"
   ]
  },
  {
   "cell_type": "markdown",
   "metadata": {},
   "source": [
    "### 5-  problema de programación no lineal (optimos extremos):\n",
    "\n",
    "z = x1 + x2\n",
    "\n",
    "S.A\n",
    "\n",
    "x2-x1^2≤1\n",
    "\n",
    "x1+x2 ≥0\n",
    "\n",
    "x1,x2 ≥0\n",
    "\n",
    "#### Naturaleza de la función:\n",
    "\n",
    "<img src=\"files/13.png\">\n",
    "<img src=\"files/14.png\">\n",
    "\n",
    "#### condiciones de optimalidad"
   ]
  },
  {
   "cell_type": "code",
   "execution_count": 8,
   "metadata": {},
   "outputs": [
    {
     "name": "stdout",
     "output_type": "stream",
     "text": [
      "Initial SSE Objective: 0.0\n",
      "Final SSE Objective: 2e-10\n",
      "Solution\n",
      "x1 = 1e-10\n",
      "x2 = 1e-10\n"
     ]
    }
   ],
   "source": [
    "def objective(x):\n",
    "    return (x[0] + x[1])\n",
    "\n",
    "def constraint1(x):\n",
    "    return x[0]**2 + x[1]**2 + 1\n",
    "\n",
    "\n",
    "x0 = np.zeros(2)\n",
    "\n",
    "# show initial objective\n",
    "print('Initial SSE Objective: ' + str(objective(x0)))\n",
    "\n",
    "# optimize\n",
    "\n",
    "cons = ([{'type': 'ineq', 'fun': constraint1}])\n",
    "\n",
    "solution = optimize.least_squares(objective, x0, bounds=([0, 1]))\n",
    "\n",
    "x = solution.x\n",
    "\n",
    "# show final objective\n",
    "print('Final SSE Objective: ' + str(objective(x)))\n",
    "\n",
    "# print solution\n",
    "print('Solution')\n",
    "print('x1 = ' + str(x[0]))\n",
    "print('x2 = ' + str(x[1]))"
   ]
  },
  {
   "cell_type": "markdown",
   "metadata": {},
   "source": [
    "https://www.geogebra.org/graphing\n",
    "\n",
    "https://www.symbolab.com/solver/function-inflection-points-calculator/\n",
    "\n",
    "https://www.scipy-lectures.org/advanced/mathematical_optimization/\n",
    "\n",
    "http://apmonitor.com/che263/index.php/Main/PythonOptimization\n",
    "\n",
    "https://apmonitor.com/pdc/index.php/Main/NonlinearProgramming\n",
    "\n",
    "https://www.geogebra.org/3d?lang=es"
   ]
  }
 ],
 "metadata": {
  "kernelspec": {
   "display_name": "Python 3",
   "language": "python",
   "name": "python3"
  },
  "language_info": {
   "codemirror_mode": {
    "name": "ipython",
    "version": 3
   },
   "file_extension": ".py",
   "mimetype": "text/x-python",
   "name": "python",
   "nbconvert_exporter": "python",
   "pygments_lexer": "ipython3",
   "version": "3.6.4"
  }
 },
 "nbformat": 4,
 "nbformat_minor": 2
}
